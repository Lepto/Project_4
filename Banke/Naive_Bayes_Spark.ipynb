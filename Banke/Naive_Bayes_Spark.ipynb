{
  "nbformat": 4,
  "nbformat_minor": 0,
  "metadata": {
    "colab": {
      "name": "Naive_Bayes_Spark.ipynb",
      "provenance": [],
      "collapsed_sections": []
    },
    "kernelspec": {
      "name": "python3",
      "display_name": "Python 3"
    },
    "language_info": {
      "name": "python"
    }
  },
  "cells": [
    {
      "cell_type": "code",
      "metadata": {
        "id": "Z918TwXXmrLt"
      },
      "source": [
        "import pandas as pd"
      ],
      "execution_count": null,
      "outputs": []
    },
    {
      "cell_type": "code",
      "metadata": {
        "colab": {
          "base_uri": "https://localhost:8080/"
        },
        "id": "j96BuhHTmzj0",
        "outputId": "4f86b796-607c-4f82-97e3-b4839a981d3e"
      },
      "source": [
        "!pip install pyspark\n",
        "from pyspark.sql.functions import *\n",
        "from pyspark.ml import Pipeline\n",
        "from pyspark.ml.feature import VectorAssembler\n",
        "from pyspark.ml.feature import  StringIndexer"
      ],
      "execution_count": null,
      "outputs": [
        {
          "output_type": "stream",
          "name": "stdout",
          "text": [
            "Requirement already satisfied: pyspark in /usr/local/lib/python3.7/dist-packages (3.2.0)\n",
            "Requirement already satisfied: py4j==0.10.9.2 in /usr/local/lib/python3.7/dist-packages (from pyspark) (0.10.9.2)\n"
          ]
        }
      ]
    },
    {
      "cell_type": "code",
      "metadata": {
        "id": "g7eSIL16m9cD"
      },
      "source": [
        "from pyspark.sql import SparkSession"
      ],
      "execution_count": null,
      "outputs": []
    },
    {
      "cell_type": "code",
      "metadata": {
        "colab": {
          "base_uri": "https://localhost:8080/"
        },
        "id": "HeXSbU_6nHW1",
        "outputId": "0f553366-f28f-4a35-fed7-ab94ffc1670d"
      },
      "source": [
        "from google.colab import drive\n",
        "drive.mount(\"/content/gdrive\")"
      ],
      "execution_count": null,
      "outputs": [
        {
          "output_type": "stream",
          "text": [
            "Mounted at /content/gdrive\n"
          ],
          "name": "stdout"
        }
      ]
    },
    {
      "cell_type": "code",
      "metadata": {
        "colab": {
          "base_uri": "https://localhost:8080/",
          "height": 643
        },
        "id": "q3IdCNChnIn0",
        "outputId": "b8672e44-36d6-4484-cf99-182c56494197"
      },
      "source": [
        "# Read data from the vehicle_stolen_dataset.csv\n",
        "data = pd.read_csv('review_final.csv')\n",
        "data.head()"
      ],
      "execution_count": null,
      "outputs": [
        {
          "output_type": "execute_result",
          "data": {
            "text/html": [
              "<div>\n",
              "<style scoped>\n",
              "    .dataframe tbody tr th:only-of-type {\n",
              "        vertical-align: middle;\n",
              "    }\n",
              "\n",
              "    .dataframe tbody tr th {\n",
              "        vertical-align: top;\n",
              "    }\n",
              "\n",
              "    .dataframe thead th {\n",
              "        text-align: right;\n",
              "    }\n",
              "</style>\n",
              "<table border=\"1\" class=\"dataframe\">\n",
              "  <thead>\n",
              "    <tr style=\"text-align: right;\">\n",
              "      <th></th>\n",
              "      <th>review_id</th>\n",
              "      <th>user_id</th>\n",
              "      <th>business_id</th>\n",
              "      <th>stars</th>\n",
              "      <th>useful</th>\n",
              "      <th>funny</th>\n",
              "      <th>cool</th>\n",
              "      <th>text</th>\n",
              "      <th>date</th>\n",
              "    </tr>\n",
              "  </thead>\n",
              "  <tbody>\n",
              "    <tr>\n",
              "      <th>0</th>\n",
              "      <td>1Q-ol0RaIe-MmH5Obb_iNg</td>\n",
              "      <td>rYfa3Akt50HehDn2MbwT6w</td>\n",
              "      <td>X-73k3cwBjjc170MOdPa7A</td>\n",
              "      <td>5</td>\n",
              "      <td>0</td>\n",
              "      <td>0</td>\n",
              "      <td>0</td>\n",
              "      <td>While visiting from out of town we visited thi...</td>\n",
              "      <td>5/7/2014 17:11</td>\n",
              "    </tr>\n",
              "    <tr>\n",
              "      <th>1</th>\n",
              "      <td>D_I35MhS4yjK2lFzBJVqQg</td>\n",
              "      <td>crKvGu0aiwkTTSX_rxUP8g</td>\n",
              "      <td>CKHAx-EcYP5Q7WxRC1HJjg</td>\n",
              "      <td>5</td>\n",
              "      <td>0</td>\n",
              "      <td>0</td>\n",
              "      <td>0</td>\n",
              "      <td>Perfect place to eat before a show at the Some...</td>\n",
              "      <td>11/3/2018 23:28</td>\n",
              "    </tr>\n",
              "    <tr>\n",
              "      <th>2</th>\n",
              "      <td>R1QTSK3s_efKaUgw5SJR-w</td>\n",
              "      <td>YtcUQ_6xWKLWesEjfF75FQ</td>\n",
              "      <td>X-73k3cwBjjc170MOdPa7A</td>\n",
              "      <td>3</td>\n",
              "      <td>0</td>\n",
              "      <td>0</td>\n",
              "      <td>0</td>\n",
              "      <td>Doing a casual tour of all the Vancouver coffe...</td>\n",
              "      <td>9/15/2019 2:08</td>\n",
              "    </tr>\n",
              "    <tr>\n",
              "      <th>3</th>\n",
              "      <td>POZwx5nnWn1IOhtq_MKZuQ</td>\n",
              "      <td>l8fMobBPGA7Zvf6sEkl5WQ</td>\n",
              "      <td>Z8XWRWaOnjwuJOWbnnGQ1w</td>\n",
              "      <td>5</td>\n",
              "      <td>0</td>\n",
              "      <td>0</td>\n",
              "      <td>0</td>\n",
              "      <td>Breakfast, lunch and anytime in between this i...</td>\n",
              "      <td>4/7/2017 12:43</td>\n",
              "    </tr>\n",
              "    <tr>\n",
              "      <th>4</th>\n",
              "      <td>FnyhJpVqk6ntrkJc-C8RMA</td>\n",
              "      <td>vhDL0RHifIgEdWytB1yrSg</td>\n",
              "      <td>Z8XWRWaOnjwuJOWbnnGQ1w</td>\n",
              "      <td>4</td>\n",
              "      <td>0</td>\n",
              "      <td>0</td>\n",
              "      <td>0</td>\n",
              "      <td>Great place for a delicious sandwich with high...</td>\n",
              "      <td>10/26/2014 21:13</td>\n",
              "    </tr>\n",
              "  </tbody>\n",
              "</table>\n",
              "</div>"
            ],
            "text/plain": [
              "                review_id  ...              date\n",
              "0  1Q-ol0RaIe-MmH5Obb_iNg  ...    5/7/2014 17:11\n",
              "1  D_I35MhS4yjK2lFzBJVqQg  ...   11/3/2018 23:28\n",
              "2  R1QTSK3s_efKaUgw5SJR-w  ...    9/15/2019 2:08\n",
              "3  POZwx5nnWn1IOhtq_MKZuQ  ...    4/7/2017 12:43\n",
              "4  FnyhJpVqk6ntrkJc-C8RMA  ...  10/26/2014 21:13\n",
              "\n",
              "[5 rows x 9 columns]"
            ]
          },
          "metadata": {},
          "execution_count": 4
        }
      ]
    },
    {
      "cell_type": "code",
      "metadata": {
        "id": "GcH5yWPenhSy"
      },
      "source": [
        "spark = SparkSession.builder.master(\"local[*]\").getOrCreate() #Sets the Spark master URL to run locally."
      ],
      "execution_count": null,
      "outputs": []
    },
    {
      "cell_type": "code",
      "metadata": {
        "colab": {
          "base_uri": "https://localhost:8080/"
        },
        "id": "G5gu-_2ZnoM7",
        "outputId": "61caf327-67c1-4c74-ecf2-2a4f19807857"
      },
      "source": [
        "review_data = spark.createDataFrame(data)  #Create DataFrame\n",
        "review_data.show(5)"
      ],
      "execution_count": null,
      "outputs": [
        {
          "output_type": "stream",
          "name": "stdout",
          "text": [
            "+--------------------+--------------------+--------------------+-----+------+-----+----+--------------------+----------------+\n",
            "|           review_id|             user_id|         business_id|stars|useful|funny|cool|                text|            date|\n",
            "+--------------------+--------------------+--------------------+-----+------+-----+----+--------------------+----------------+\n",
            "|1Q-ol0RaIe-MmH5Ob...|rYfa3Akt50HehDn2M...|X-73k3cwBjjc170MO...|    5|     0|    0|   0|While visiting fr...|  5/7/2014 17:11|\n",
            "|D_I35MhS4yjK2lFzB...|crKvGu0aiwkTTSX_r...|CKHAx-EcYP5Q7WxRC...|    5|     0|    0|   0|Perfect place to ...| 11/3/2018 23:28|\n",
            "|R1QTSK3s_efKaUgw5...|YtcUQ_6xWKLWesEjf...|X-73k3cwBjjc170MO...|    3|     0|    0|   0|Doing a casual to...|  9/15/2019 2:08|\n",
            "|POZwx5nnWn1IOhtq_...|l8fMobBPGA7Zvf6sE...|Z8XWRWaOnjwuJOWbn...|    5|     0|    0|   0|Breakfast, lunch ...|  4/7/2017 12:43|\n",
            "|FnyhJpVqk6ntrkJc-...|vhDL0RHifIgEdWytB...|Z8XWRWaOnjwuJOWbn...|    4|     0|    0|   0|Great place for a...|10/26/2014 21:13|\n",
            "+--------------------+--------------------+--------------------+-----+------+-----+----+--------------------+----------------+\n",
            "only showing top 5 rows\n",
            "\n"
          ]
        }
      ]
    },
    {
      "cell_type": "code",
      "metadata": {
        "colab": {
          "base_uri": "https://localhost:8080/"
        },
        "id": "Bs_tc0S75Vy5",
        "outputId": "736e7915-0e88-4219-c38c-6dbcae69d831"
      },
      "source": [
        "# Create a length column to be used as a future feature \n",
        "review_data = review_data.withColumn('length', length(review_data['text']))\n",
        "review_data.show()"
      ],
      "execution_count": null,
      "outputs": [
        {
          "output_type": "stream",
          "name": "stdout",
          "text": [
            "+--------------------+--------------------+--------------------+-----+------+-----+----+--------------------+----------------+------+\n",
            "|           review_id|             user_id|         business_id|stars|useful|funny|cool|                text|            date|length|\n",
            "+--------------------+--------------------+--------------------+-----+------+-----+----+--------------------+----------------+------+\n",
            "|1Q-ol0RaIe-MmH5Ob...|rYfa3Akt50HehDn2M...|X-73k3cwBjjc170MO...|    5|     0|    0|   0|While visiting fr...|  5/7/2014 17:11|   301|\n",
            "|D_I35MhS4yjK2lFzB...|crKvGu0aiwkTTSX_r...|CKHAx-EcYP5Q7WxRC...|    5|     0|    0|   0|Perfect place to ...| 11/3/2018 23:28|   416|\n",
            "|R1QTSK3s_efKaUgw5...|YtcUQ_6xWKLWesEjf...|X-73k3cwBjjc170MO...|    3|     0|    0|   0|Doing a casual to...|  9/15/2019 2:08|   406|\n",
            "|POZwx5nnWn1IOhtq_...|l8fMobBPGA7Zvf6sE...|Z8XWRWaOnjwuJOWbn...|    5|     0|    0|   0|Breakfast, lunch ...|  4/7/2017 12:43|   417|\n",
            "|FnyhJpVqk6ntrkJc-...|vhDL0RHifIgEdWytB...|Z8XWRWaOnjwuJOWbn...|    4|     0|    0|   0|Great place for a...|10/26/2014 21:13|   297|\n",
            "|aGdD5HHAP_M_-ZKcR...|g03mp_C1kEGTOUCaf...|NFkrB7zvwsTkeYewr...|    2|     0|    1|   0|Less than impress...|   7/9/2019 2:00|   386|\n",
            "|TgokW69FfW8azFgru...|Q2MQCzVE5EZmqhPe-...|OPfgKOm_n-ajUo3qj...|    5|     1|    0|   0|First timers, gra...|  1/1/2017 23:52|   315|\n",
            "|MLIKoqBPbNU5MvQ4t...|hOsRzMS9nxajI-RMR...|OPfgKOm_n-ajUo3qj...|    5|     0|    0|   0|When in Portland,...|10/25/2019 19:34|   293|\n",
            "|Ed1gLds-WBcqO_VZo...|j5YS-J6kytVelaMYU...|Z8XWRWaOnjwuJOWbn...|    4|     0|    0|   0|So many options! ...| 7/10/2013 16:53|   227|\n",
            "|DCI0G8CCgXG7w0mPM...|eoP-xGUvab8uNVDJl...|Z8XWRWaOnjwuJOWbn...|    4|     0|    0|   0|Been a regular fo...|   5/3/2016 1:59|   419|\n",
            "|kSLz4VenahLNe4HVR...|kxiCaWp66PnnOMaNr...|OPfgKOm_n-ajUo3qj...|    4|     0|    0|   0|I give this place...|  1/21/2018 3:18|   285|\n",
            "|wmPDS3cx14eIq48T-...|AXBqHd056-3qK9LKY...|OPfgKOm_n-ajUo3qj...|    5|     0|    0|   0|One of the places...|11/15/2019 16:42|   331|\n",
            "|VD9h9AOpLXuphu_Bs...|0sMFm4ByoWLPkLhvd...|0ZLsjb6vERkULun-U...|    5|     0|    0|   0|I stopped here on...| 7/13/2014 11:32|   231|\n",
            "|              #NAME?|WRvqJBCBLsXVV_i7F...|_xROQW3HOI999RFox...|    5|     0|    0|   0|Such helpful work...| 4/26/2018 19:19|   199|\n",
            "|8i_R-u7iViOU7KTyj...|8qkfusBXl3jQNPJOr...|0ZLsjb6vERkULun-U...|    5|     1|    0|   0|Really friendly p...| 5/22/2014 17:39|   104|\n",
            "|L26Fdnw8yL9fDJUbw...|Dp0o9UEkW6HCGobPf...|_xROQW3HOI999RFox...|    5|     0|    0|   0|Kopi is right nex...|  4/7/2019 20:19|   121|\n",
            "|zq6T5dn7hfnHsfFLn...|FoTPWOUdvKt9GgEhj...|_xROQW3HOI999RFox...|    5|     0|    0|   0|Great coffee from...|  3/18/2020 1:30|   136|\n",
            "|BQXEiKCbNY0VPu696...|SM5FfrF2sHaT_WGiL...|4wKKAI2BvZ1rfgrpY...|    5|     0|    0|   0|I love the lavend...| 2/26/2020 23:12|   397|\n",
            "|9b57dANnStkzbNFDX...|D8y9aEyGw-a75QwhR...|I76JQSyrt9C0bmUOk...|    4|     0|    0|   0|It's ok but I'm e...| 7/25/2019 22:09|   691|\n",
            "|K-UCpFT-H7VXe-iWw...|q3pfHOS3erOD-n9Rx...|r9qr3PFk4QePBdynp...|    1|     0|    0|   0|i'm newish to the...| 1/18/2020 11:20|   315|\n",
            "+--------------------+--------------------+--------------------+-----+------+-----+----+--------------------+----------------+------+\n",
            "only showing top 20 rows\n",
            "\n"
          ]
        }
      ]
    },
    {
      "cell_type": "code",
      "metadata": {
        "id": "QJIfUINRrjrz"
      },
      "source": [
        "indexers = [StringIndexer(inputCol=\"text\", outputCol = \"text_index\"),  \n",
        "            StringIndexer(inputCol=\"stars\", outputCol = \"label\")]\n",
        "            \n",
        "           "
      ],
      "execution_count": null,
      "outputs": []
    },
    {
      "cell_type": "code",
      "metadata": {
        "id": "kX0ok6FXz-Hi"
      },
      "source": [
        "pipeline = Pipeline(stages=indexers)\n",
        "indexed_review_df = pipeline.fit(review_data).transform(review_data)"
      ],
      "execution_count": null,
      "outputs": []
    },
    {
      "cell_type": "code",
      "metadata": {
        "colab": {
          "base_uri": "https://localhost:8080/"
        },
        "id": "H4gRnXSc3ksx",
        "outputId": "e5505c6a-7efe-4670-9bc6-da8868116d17"
      },
      "source": [
        "indexed_review_df.show(5,True)"
      ],
      "execution_count": null,
      "outputs": [
        {
          "output_type": "stream",
          "name": "stdout",
          "text": [
            "+--------------------+--------------------+--------------------+-----+------+-----+----+--------------------+----------------+------+----------+-----+\n",
            "|           review_id|             user_id|         business_id|stars|useful|funny|cool|                text|            date|length|text_index|label|\n",
            "+--------------------+--------------------+--------------------+-----+------+-----+----+--------------------+----------------+------+----------+-----+\n",
            "|1Q-ol0RaIe-MmH5Ob...|rYfa3Akt50HehDn2M...|X-73k3cwBjjc170MO...|    5|     0|    0|   0|While visiting fr...|  5/7/2014 17:11|   301|   37193.0|  0.0|\n",
            "|D_I35MhS4yjK2lFzB...|crKvGu0aiwkTTSX_r...|CKHAx-EcYP5Q7WxRC...|    5|     0|    0|   0|Perfect place to ...| 11/3/2018 23:28|   416|   25748.0|  0.0|\n",
            "|R1QTSK3s_efKaUgw5...|YtcUQ_6xWKLWesEjf...|X-73k3cwBjjc170MO...|    3|     0|    0|   0|Doing a casual to...|  9/15/2019 2:08|   406|    9686.0|  3.0|\n",
            "|POZwx5nnWn1IOhtq_...|l8fMobBPGA7Zvf6sE...|Z8XWRWaOnjwuJOWbn...|    5|     0|    0|   0|Breakfast, lunch ...|  4/7/2017 12:43|   417|    7739.0|  0.0|\n",
            "|FnyhJpVqk6ntrkJc-...|vhDL0RHifIgEdWytB...|Z8XWRWaOnjwuJOWbn...|    4|     0|    0|   0|Great place for a...|10/26/2014 21:13|   297|   13251.0|  1.0|\n",
            "+--------------------+--------------------+--------------------+-----+------+-----+----+--------------------+----------------+------+----------+-----+\n",
            "only showing top 5 rows\n",
            "\n"
          ]
        }
      ]
    },
    {
      "cell_type": "code",
      "metadata": {
        "id": "ymfaBPG70RqE"
      },
      "source": [
        "vectorAssembler = VectorAssembler(inputCols = [\"text_index\"], outputCol = \"features\")\n",
        "indexed_reviews = vectorAssembler.transform(indexed_review_df)"
      ],
      "execution_count": null,
      "outputs": []
    },
    {
      "cell_type": "code",
      "metadata": {
        "colab": {
          "base_uri": "https://localhost:8080/"
        },
        "id": "y_N-B5aL6_vM",
        "outputId": "c1fb8f6e-5355-42b6-e77a-ca83baa227ab"
      },
      "source": [
        "indexed_reviews.show(5, False)"
      ],
      "execution_count": null,
      "outputs": [
        {
          "output_type": "stream",
          "name": "stdout",
          "text": [
            "+----------------------+----------------------+----------------------+-----+------+-----+----+---------------------------------------------------------------------------------------------------------------------------------------------------------------------------------------------------------------------------------------------------------------------------------------------------------------------------------------------------------------------------------------------------------------------------------+----------------+------+----------+-----+---------+\n",
            "|review_id             |user_id               |business_id           |stars|useful|funny|cool|text                                                                                                                                                                                                                                                                                                                                                                                                                             |date            |length|text_index|label|features |\n",
            "+----------------------+----------------------+----------------------+-----+------+-----+----+---------------------------------------------------------------------------------------------------------------------------------------------------------------------------------------------------------------------------------------------------------------------------------------------------------------------------------------------------------------------------------------------------------------------------------+----------------+------+----------+-----+---------+\n",
            "|1Q-ol0RaIe-MmH5Obb_iNg|rYfa3Akt50HehDn2MbwT6w|X-73k3cwBjjc170MOdPa7A|5    |0     |0    |0   |While visiting from out of town we visited this coffee shop every day.  I like the ceramic cups when you order in.  I hate the cheap paper cups of the big name coffee establishments.  I don't get how they can serve you a $5 coffee in a paper cup??  We had their fresh baked goods and all were amazing!                                                                                                                    |5/7/2014 17:11  |301   |37193.0   |0.0  |[37193.0]|\n",
            "|D_I35MhS4yjK2lFzBJVqQg|crKvGu0aiwkTTSX_rxUP8g|CKHAx-EcYP5Q7WxRC1HJjg|5    |0     |0    |0   |Perfect place to eat before a show at the Somerville Theater. The crepes were DELICIOUS! I had a savory crepe and hubby had a sweet crepe. Both were great! And the timing was ideal--finding a parking space had taken so long that we needed a fairly quick meal. I was surprised that we could get such yummy food made fresh in front of us and served up so fast. Plenty of time to still get in our seats for the concert. |11/3/2018 23:28 |416   |25748.0   |0.0  |[25748.0]|\n",
            "|R1QTSK3s_efKaUgw5SJR-w|YtcUQ_6xWKLWesEjfF75FQ|X-73k3cwBjjc170MOdPa7A|3    |0     |0    |0   |Doing a casual tour of all the Vancouver coffee shops! Stopped by Elysian today with a friend. Has a great vibe inside, was nice and cozy on a rainy day. Had an excellent Americano. Also had a cheddar scone which I didn't love, because it had a lot of dill in it - kind of a weird addition! Price for americano & scone was $7.25 which is reasonable for Vancouver. Overall a nice spot and I would come back!           |9/15/2019 2:08  |406   |9686.0    |3.0  |[9686.0] |\n",
            "|POZwx5nnWn1IOhtq_MKZuQ|l8fMobBPGA7Zvf6sEkl5WQ|Z8XWRWaOnjwuJOWbnnGQ1w|5    |0     |0    |0   |Breakfast, lunch and anytime in between this is a wonderful place to visit.  The pastries are amazing!!  A friend first introduced me to this yummy bakery/cafe/specialty market when she brought over a delicious Buche de Noel for dessert.  Wow!!!  I was hooked.  Once you step inside, you will be too.  Great wines, a huge selection of prepared foods, great cheeses, breads, desserts, pizza.  What more could you want?|4/7/2017 12:43  |417   |7739.0    |0.0  |[7739.0] |\n",
            "|FnyhJpVqk6ntrkJc-C8RMA|vhDL0RHifIgEdWytB1yrSg|Z8XWRWaOnjwuJOWbnnGQ1w|4    |0     |0    |0   |Great place for a delicious sandwich with high quality ingredients. Came here not once but twice during my business trip and loved the smoked turkey sandwich. Smoked turkey had a nice savory taste and the special mustard was quite good as well. This place is a must if you want a gourmet sandwich!                                                                                                                        |10/26/2014 21:13|297   |13251.0   |1.0  |[13251.0]|\n",
            "+----------------------+----------------------+----------------------+-----+------+-----+----+---------------------------------------------------------------------------------------------------------------------------------------------------------------------------------------------------------------------------------------------------------------------------------------------------------------------------------------------------------------------------------------------------------------------------------+----------------+------+----------+-----+---------+\n",
            "only showing top 5 rows\n",
            "\n"
          ]
        }
      ]
    },
    {
      "cell_type": "markdown",
      "metadata": {
        "id": "0rJzHv9n7Pg4"
      },
      "source": [
        "# Naive Bayes Classification\n"
      ]
    },
    {
      "cell_type": "code",
      "metadata": {
        "id": "_QlFHBfh7m74"
      },
      "source": [
        "from pyspark.ml.classification import NaiveBayes\n",
        "from pyspark.ml.evaluation import MulticlassClassificationEvaluator"
      ],
      "execution_count": null,
      "outputs": []
    },
    {
      "cell_type": "code",
      "metadata": {
        "id": "wCUKag427SFH"
      },
      "source": [
        "splits = indexed_reviews.randomSplit([0.6,0.4], 42)    # optional value 42 is seed for sampling\n",
        "train_df = splits[0]\n",
        "test_df = splits[1]"
      ],
      "execution_count": null,
      "outputs": []
    },
    {
      "cell_type": "code",
      "metadata": {
        "id": "ZqkpouDM7UIs"
      },
      "source": [
        "# Apply the Naive bayes classifier\n",
        "nb = NaiveBayes(modelType=\"multinomial\")"
      ],
      "execution_count": null,
      "outputs": []
    },
    {
      "cell_type": "code",
      "metadata": {
        "id": "Stgq6Qm-7ckF"
      },
      "source": [
        "# train the model\n",
        "nbmodel = nb.fit(train_df)"
      ],
      "execution_count": null,
      "outputs": []
    },
    {
      "cell_type": "code",
      "metadata": {
        "colab": {
          "base_uri": "https://localhost:8080/"
        },
        "id": "biqB_0_s7tiU",
        "outputId": "d2763c6c-7a1e-4d3a-b03a-f993e03d3eb7"
      },
      "source": [
        "# select example rows to display.\n",
        "predictions_df = nbmodel.transform(test_df)\n",
        "predictions_df.show(5)"
      ],
      "execution_count": null,
      "outputs": [
        {
          "output_type": "stream",
          "name": "stdout",
          "text": [
            "+--------------------+--------------------+--------------------+--------------------+--------------------+--------------------+--------------------+--------------------+--------------------+------+----------+------+--------+--------------------+--------------------+----------+\n",
            "|           review_id|             user_id|         business_id|               stars|              useful|               funny|                cool|                text|                date|length|text_index| label|features|       rawPrediction|         probability|prediction|\n",
            "+--------------------+--------------------+--------------------+--------------------+--------------------+--------------------+--------------------+--------------------+--------------------+------+----------+------+--------+--------------------+--------------------+----------+\n",
            "|      It doesn't ...| but they place i...| themed throughou...| videos of travel...| and your table o...| which is saying ...| little on the sw...| and WOW was it b...|       Roma tomatoes|    51|     280.0|1405.0| [280.0]|[-0.7613959760582...|[0.46701403134490...|       0.0|\n",
            "|  My friend is a ...| and is still lea...|                 and| though I was pay...| when the cashier...| he responded \"\"n...| which he repeate...| but she still to...| though I hadn't ...|    33|     642.0|1355.0| [642.0]|[-0.7613959760582...|[0.46701403134490...|       0.0|\n",
            "| I waited downsta...| waited for over ...| finally asked th...| so I went downst...|            waitress| cashier...she ha...| or she would've ...| everything was b...| and I changed my...|    22|     792.0|1173.0| [792.0]|[-0.7613959760582...|[0.46701403134490...|       0.0|\n",
            "| I'll start with ...|    friendly hostess| extensive menu w...|              vegans|      healthy eaters|           omnivores| etc.   The space...| much bigger than...|     flavor-wise.   |    65|    1023.0|1400.0|[1023.0]|[-0.7613959760582...|[0.46701403134490...|       0.0|\n",
            "|\"\"How is it you h...| yet still take m...| I was timing you...| because I know E...| one is chatting ...| one of them is t...| and the final on...|    fry up some eggs| and make someone...|    17|     824.0| 501.0| [824.0]|[-0.7613959760582...|[0.46701403134490...|       0.0|\n",
            "+--------------------+--------------------+--------------------+--------------------+--------------------+--------------------+--------------------+--------------------+--------------------+------+----------+------+--------+--------------------+--------------------+----------+\n",
            "only showing top 5 rows\n",
            "\n"
          ]
        }
      ]
    },
    {
      "cell_type": "code",
      "metadata": {
        "colab": {
          "base_uri": "https://localhost:8080/"
        },
        "id": "rLVm5LPp8MGF",
        "outputId": "13ea7957-edb7-4131-c8ab-c5566f199973"
      },
      "source": [
        "# compute accuracy on the test set\n",
        "evaluator = MulticlassClassificationEvaluator(labelCol=\"label\", predictionCol=\"prediction\", metricName=\"accuracy\")\n",
        "nbaccuracy = evaluator.evaluate(predictions_df)\n",
        "print(\"Test set accuracy = \" + str(nbaccuracy))"
      ],
      "execution_count": null,
      "outputs": [
        {
          "output_type": "stream",
          "name": "stdout",
          "text": [
            "Test set accuracy = 0.4758926244461819\n"
          ]
        }
      ]
    },
    {
      "cell_type": "code",
      "metadata": {
        "colab": {
          "base_uri": "https://localhost:8080/"
        },
        "id": "FjDhUalK-Fts",
        "outputId": "c27cff1e-d514-46fb-c295-019bb3b52882"
      },
      "source": [
        "# Use the Class Evaluator for a cleaner description\n",
        "from pyspark.ml.evaluation import MulticlassClassificationEvaluator\n",
        "\n",
        "acc_eval = MulticlassClassificationEvaluator(labelCol=\"label\", predictionCol=\"prediction\", metricName=\"accuracy\")\n",
        "acc = acc_eval.evaluate(predictions_df)\n",
        "print(\"Accuracy of model at predicting reviews was: %f\" % acc)"
      ],
      "execution_count": null,
      "outputs": [
        {
          "output_type": "stream",
          "name": "stdout",
          "text": [
            "Accuracy of model at predicting reviews was: 0.475893\n"
          ]
        }
      ]
    }
  ]
}