{
  "nbformat": 4,
  "nbformat_minor": 5,
  "metadata": {
    "kernelspec": {
      "display_name": "Python 3",
      "language": "python",
      "name": "python3"
    },
    "language_info": {
      "codemirror_mode": {
        "name": "ipython",
        "version": 3
      },
      "file_extension": ".py",
      "mimetype": "text/x-python",
      "name": "python",
      "nbconvert_exporter": "python",
      "pygments_lexer": "ipython3",
      "version": "3.8.8"
    },
    "colab": {
      "name": "NLP_Project4_final.ipynb",
      "provenance": [],
      "collapsed_sections": []
    }
  },
  "cells": [
    {
      "cell_type": "markdown",
      "metadata": {
        "id": "4111618d"
      },
      "source": [
        "### Naive Base Classifer to predict Satisfied and Unsatisfied Customers\n",
        "\n",
        "The yelp review csv was imported into this notebook. Some data prepocessing steps was carried out to clean the data. Exploratory analysi was carried out on the data set to get a better understanding the data distribution."
      ],
      "id": "4111618d"
    },
    {
      "cell_type": "code",
      "metadata": {
        "id": "1c1e1aee"
      },
      "source": [
        "import numpy as np\n",
        "import pandas as pd\n",
        "import matplotlib.pyplot as plt\n",
        "import seaborn as sns"
      ],
      "id": "1c1e1aee",
      "execution_count": null,
      "outputs": []
    },
    {
      "cell_type": "code",
      "metadata": {
        "colab": {
          "base_uri": "https://localhost:8080/",
          "height": 643
        },
        "id": "b06653cd",
        "outputId": "5607b5ab-f1a4-4748-fb2a-18d634714f1d"
      },
      "source": [
        "# Read the csv\n",
        "data_reviews = pd.read_csv(\"review_final.csv\")\n",
        "data_reviews.head()"
      ],
      "id": "b06653cd",
      "execution_count": null,
      "outputs": [
        {
          "output_type": "execute_result",
          "data": {
            "text/html": [
              "<div>\n",
              "<style scoped>\n",
              "    .dataframe tbody tr th:only-of-type {\n",
              "        vertical-align: middle;\n",
              "    }\n",
              "\n",
              "    .dataframe tbody tr th {\n",
              "        vertical-align: top;\n",
              "    }\n",
              "\n",
              "    .dataframe thead th {\n",
              "        text-align: right;\n",
              "    }\n",
              "</style>\n",
              "<table border=\"1\" class=\"dataframe\">\n",
              "  <thead>\n",
              "    <tr style=\"text-align: right;\">\n",
              "      <th></th>\n",
              "      <th>review_id</th>\n",
              "      <th>user_id</th>\n",
              "      <th>business_id</th>\n",
              "      <th>stars</th>\n",
              "      <th>useful</th>\n",
              "      <th>funny</th>\n",
              "      <th>cool</th>\n",
              "      <th>text</th>\n",
              "      <th>date</th>\n",
              "    </tr>\n",
              "  </thead>\n",
              "  <tbody>\n",
              "    <tr>\n",
              "      <th>0</th>\n",
              "      <td>1Q-ol0RaIe-MmH5Obb_iNg</td>\n",
              "      <td>rYfa3Akt50HehDn2MbwT6w</td>\n",
              "      <td>X-73k3cwBjjc170MOdPa7A</td>\n",
              "      <td>5</td>\n",
              "      <td>0</td>\n",
              "      <td>0</td>\n",
              "      <td>0</td>\n",
              "      <td>While visiting from out of town we visited thi...</td>\n",
              "      <td>5/7/2014 17:11</td>\n",
              "    </tr>\n",
              "    <tr>\n",
              "      <th>1</th>\n",
              "      <td>D_I35MhS4yjK2lFzBJVqQg</td>\n",
              "      <td>crKvGu0aiwkTTSX_rxUP8g</td>\n",
              "      <td>CKHAx-EcYP5Q7WxRC1HJjg</td>\n",
              "      <td>5</td>\n",
              "      <td>0</td>\n",
              "      <td>0</td>\n",
              "      <td>0</td>\n",
              "      <td>Perfect place to eat before a show at the Some...</td>\n",
              "      <td>11/3/2018 23:28</td>\n",
              "    </tr>\n",
              "    <tr>\n",
              "      <th>2</th>\n",
              "      <td>R1QTSK3s_efKaUgw5SJR-w</td>\n",
              "      <td>YtcUQ_6xWKLWesEjfF75FQ</td>\n",
              "      <td>X-73k3cwBjjc170MOdPa7A</td>\n",
              "      <td>3</td>\n",
              "      <td>0</td>\n",
              "      <td>0</td>\n",
              "      <td>0</td>\n",
              "      <td>Doing a casual tour of all the Vancouver coffe...</td>\n",
              "      <td>9/15/2019 2:08</td>\n",
              "    </tr>\n",
              "    <tr>\n",
              "      <th>3</th>\n",
              "      <td>POZwx5nnWn1IOhtq_MKZuQ</td>\n",
              "      <td>l8fMobBPGA7Zvf6sEkl5WQ</td>\n",
              "      <td>Z8XWRWaOnjwuJOWbnnGQ1w</td>\n",
              "      <td>5</td>\n",
              "      <td>0</td>\n",
              "      <td>0</td>\n",
              "      <td>0</td>\n",
              "      <td>Breakfast, lunch and anytime in between this i...</td>\n",
              "      <td>4/7/2017 12:43</td>\n",
              "    </tr>\n",
              "    <tr>\n",
              "      <th>4</th>\n",
              "      <td>FnyhJpVqk6ntrkJc-C8RMA</td>\n",
              "      <td>vhDL0RHifIgEdWytB1yrSg</td>\n",
              "      <td>Z8XWRWaOnjwuJOWbnnGQ1w</td>\n",
              "      <td>4</td>\n",
              "      <td>0</td>\n",
              "      <td>0</td>\n",
              "      <td>0</td>\n",
              "      <td>Great place for a delicious sandwich with high...</td>\n",
              "      <td>10/26/2014 21:13</td>\n",
              "    </tr>\n",
              "  </tbody>\n",
              "</table>\n",
              "</div>"
            ],
            "text/plain": [
              "                review_id  ...              date\n",
              "0  1Q-ol0RaIe-MmH5Obb_iNg  ...    5/7/2014 17:11\n",
              "1  D_I35MhS4yjK2lFzBJVqQg  ...   11/3/2018 23:28\n",
              "2  R1QTSK3s_efKaUgw5SJR-w  ...    9/15/2019 2:08\n",
              "3  POZwx5nnWn1IOhtq_MKZuQ  ...    4/7/2017 12:43\n",
              "4  FnyhJpVqk6ntrkJc-C8RMA  ...  10/26/2014 21:13\n",
              "\n",
              "[5 rows x 9 columns]"
            ]
          },
          "metadata": {},
          "execution_count": 3
        }
      ]
    },
    {
      "cell_type": "code",
      "metadata": {
        "colab": {
          "base_uri": "https://localhost:8080/",
          "height": 175
        },
        "id": "063c5687",
        "outputId": "ad87e45e-77b0-4913-ce1f-34487bea137a"
      },
      "source": [
        "# Showing summary statistics of yelp review data\n",
        "data_reviews.describe()"
      ],
      "id": "063c5687",
      "execution_count": null,
      "outputs": [
        {
          "output_type": "execute_result",
          "data": {
            "text/html": [
              "<div>\n",
              "<style scoped>\n",
              "    .dataframe tbody tr th:only-of-type {\n",
              "        vertical-align: middle;\n",
              "    }\n",
              "\n",
              "    .dataframe tbody tr th {\n",
              "        vertical-align: top;\n",
              "    }\n",
              "\n",
              "    .dataframe thead th {\n",
              "        text-align: right;\n",
              "    }\n",
              "</style>\n",
              "<table border=\"1\" class=\"dataframe\">\n",
              "  <thead>\n",
              "    <tr style=\"text-align: right;\">\n",
              "      <th></th>\n",
              "      <th>review_id</th>\n",
              "      <th>user_id</th>\n",
              "      <th>business_id</th>\n",
              "      <th>stars</th>\n",
              "      <th>useful</th>\n",
              "      <th>funny</th>\n",
              "      <th>cool</th>\n",
              "      <th>text</th>\n",
              "      <th>date</th>\n",
              "    </tr>\n",
              "  </thead>\n",
              "  <tbody>\n",
              "    <tr>\n",
              "      <th>count</th>\n",
              "      <td>38759</td>\n",
              "      <td>38759</td>\n",
              "      <td>38759</td>\n",
              "      <td>38759</td>\n",
              "      <td>38759</td>\n",
              "      <td>38759</td>\n",
              "      <td>38759</td>\n",
              "      <td>38759</td>\n",
              "      <td>38759</td>\n",
              "    </tr>\n",
              "    <tr>\n",
              "      <th>unique</th>\n",
              "      <td>38144</td>\n",
              "      <td>35011</td>\n",
              "      <td>7328</td>\n",
              "      <td>1546</td>\n",
              "      <td>1566</td>\n",
              "      <td>1547</td>\n",
              "      <td>1574</td>\n",
              "      <td>38719</td>\n",
              "      <td>38536</td>\n",
              "    </tr>\n",
              "    <tr>\n",
              "      <th>top</th>\n",
              "      <td>#NAME?</td>\n",
              "      <td>#NAME?</td>\n",
              "      <td>PrsvO1rzkgg6qFizlAoEtg</td>\n",
              "      <td>5</td>\n",
              "      <td>0</td>\n",
              "      <td>0</td>\n",
              "      <td>0</td>\n",
              "      <td>though</td>\n",
              "      <td>however</td>\n",
              "    </tr>\n",
              "    <tr>\n",
              "      <th>freq</th>\n",
              "      <td>499</td>\n",
              "      <td>491</td>\n",
              "      <td>491</td>\n",
              "      <td>18686</td>\n",
              "      <td>25971</td>\n",
              "      <td>32743</td>\n",
              "      <td>31042</td>\n",
              "      <td>4</td>\n",
              "      <td>5</td>\n",
              "    </tr>\n",
              "  </tbody>\n",
              "</table>\n",
              "</div>"
            ],
            "text/plain": [
              "       review_id user_id             business_id  ...   cool     text      date\n",
              "count      38759   38759                   38759  ...  38759    38759     38759\n",
              "unique     38144   35011                    7328  ...   1574    38719     38536\n",
              "top       #NAME?  #NAME?  PrsvO1rzkgg6qFizlAoEtg  ...      0   though   however\n",
              "freq         499     491                     491  ...  31042        4         5\n",
              "\n",
              "[4 rows x 9 columns]"
            ]
          },
          "metadata": {},
          "execution_count": 5
        }
      ]
    },
    {
      "cell_type": "code",
      "metadata": {
        "colab": {
          "base_uri": "https://localhost:8080/"
        },
        "id": "83497bdf",
        "outputId": "f6c0fdae-7c3f-432c-c7a4-d138026bf09f"
      },
      "source": [
        "# Checking for nulls and the datatype in each column\n",
        "data_reviews.info()"
      ],
      "id": "83497bdf",
      "execution_count": null,
      "outputs": [
        {
          "output_type": "stream",
          "name": "stdout",
          "text": [
            "<class 'pandas.core.frame.DataFrame'>\n",
            "RangeIndex: 38759 entries, 0 to 38758\n",
            "Data columns (total 9 columns):\n",
            " #   Column       Non-Null Count  Dtype \n",
            "---  ------       --------------  ----- \n",
            " 0   review_id    38759 non-null  object\n",
            " 1   user_id      38759 non-null  object\n",
            " 2   business_id  38759 non-null  object\n",
            " 3   stars        38759 non-null  object\n",
            " 4   useful       38759 non-null  object\n",
            " 5   funny        38759 non-null  object\n",
            " 6   cool         38759 non-null  object\n",
            " 7   text         38759 non-null  object\n",
            " 8   date         38759 non-null  object\n",
            "dtypes: object(9)\n",
            "memory usage: 2.7+ MB\n"
          ]
        }
      ]
    },
    {
      "cell_type": "code",
      "metadata": {
        "colab": {
          "base_uri": "https://localhost:8080/"
        },
        "id": "VgJuApO-OFAK",
        "outputId": "46e7b213-afb6-4e00-93c4-2c1ac1f24722"
      },
      "source": [
        "# Changing stars column from string to int datatype\n",
        "data_reviews = pd.DataFrame(data_reviews)\n",
        "data_reviews['stars'] = pd.to_numeric(data_reviews['stars'], errors='coerce')\n",
        "data_reviews = data_reviews.replace(np.nan, 1, regex=True)\n",
        "data_reviews['stars'] = data_reviews['stars'].astype(int)\n",
        "data_reviews.head()\n",
        "\n",
        "print (data_reviews)\n",
        "print (data_reviews.dtypes)\n"
      ],
      "id": "VgJuApO-OFAK",
      "execution_count": null,
      "outputs": [
        {
          "output_type": "stream",
          "name": "stdout",
          "text": [
            "                    review_id  ...              date\n",
            "0      1Q-ol0RaIe-MmH5Obb_iNg  ...    5/7/2014 17:11\n",
            "1      D_I35MhS4yjK2lFzBJVqQg  ...   11/3/2018 23:28\n",
            "2      R1QTSK3s_efKaUgw5SJR-w  ...    9/15/2019 2:08\n",
            "3      POZwx5nnWn1IOhtq_MKZuQ  ...    4/7/2017 12:43\n",
            "4      FnyhJpVqk6ntrkJc-C8RMA  ...  10/26/2014 21:13\n",
            "...                       ...  ...               ...\n",
            "38754  2Ja39uua-va7Zz0dxurneg  ...  12/29/2018 19:24\n",
            "38755  vv5yzT1W6W8Ddi8jlt_Jcw  ...   11/3/2019 20:01\n",
            "38756  0rRZnc8JWHEJZfdGIc3FCg  ...   6/16/2020 21:16\n",
            "38757  bnwF5gtYpzsU3KPhEsyh6w  ...  11/29/2019 12:48\n",
            "38758  EhEbeuAI7sdOy3bEqHmjmg  ...    4/30/2019 0:02\n",
            "\n",
            "[38759 rows x 9 columns]\n",
            "review_id      object\n",
            "user_id        object\n",
            "business_id    object\n",
            "stars           int64\n",
            "useful         object\n",
            "funny          object\n",
            "cool           object\n",
            "text           object\n",
            "date           object\n",
            "dtype: object\n"
          ]
        }
      ]
    },
    {
      "cell_type": "code",
      "metadata": {
        "colab": {
          "base_uri": "https://localhost:8080/",
          "height": 423
        },
        "id": "d9f8b4c5",
        "outputId": "796f2eeb-cec1-4236-c73f-437fa72b40a1"
      },
      "source": [
        "# Checking for nulls\n",
        "data_reviews.isnull()"
      ],
      "id": "d9f8b4c5",
      "execution_count": null,
      "outputs": [
        {
          "output_type": "execute_result",
          "data": {
            "text/html": [
              "<div>\n",
              "<style scoped>\n",
              "    .dataframe tbody tr th:only-of-type {\n",
              "        vertical-align: middle;\n",
              "    }\n",
              "\n",
              "    .dataframe tbody tr th {\n",
              "        vertical-align: top;\n",
              "    }\n",
              "\n",
              "    .dataframe thead th {\n",
              "        text-align: right;\n",
              "    }\n",
              "</style>\n",
              "<table border=\"1\" class=\"dataframe\">\n",
              "  <thead>\n",
              "    <tr style=\"text-align: right;\">\n",
              "      <th></th>\n",
              "      <th>review_id</th>\n",
              "      <th>user_id</th>\n",
              "      <th>business_id</th>\n",
              "      <th>stars</th>\n",
              "      <th>useful</th>\n",
              "      <th>funny</th>\n",
              "      <th>cool</th>\n",
              "      <th>text</th>\n",
              "      <th>date</th>\n",
              "    </tr>\n",
              "  </thead>\n",
              "  <tbody>\n",
              "    <tr>\n",
              "      <th>0</th>\n",
              "      <td>False</td>\n",
              "      <td>False</td>\n",
              "      <td>False</td>\n",
              "      <td>False</td>\n",
              "      <td>False</td>\n",
              "      <td>False</td>\n",
              "      <td>False</td>\n",
              "      <td>False</td>\n",
              "      <td>False</td>\n",
              "    </tr>\n",
              "    <tr>\n",
              "      <th>1</th>\n",
              "      <td>False</td>\n",
              "      <td>False</td>\n",
              "      <td>False</td>\n",
              "      <td>False</td>\n",
              "      <td>False</td>\n",
              "      <td>False</td>\n",
              "      <td>False</td>\n",
              "      <td>False</td>\n",
              "      <td>False</td>\n",
              "    </tr>\n",
              "    <tr>\n",
              "      <th>2</th>\n",
              "      <td>False</td>\n",
              "      <td>False</td>\n",
              "      <td>False</td>\n",
              "      <td>False</td>\n",
              "      <td>False</td>\n",
              "      <td>False</td>\n",
              "      <td>False</td>\n",
              "      <td>False</td>\n",
              "      <td>False</td>\n",
              "    </tr>\n",
              "    <tr>\n",
              "      <th>3</th>\n",
              "      <td>False</td>\n",
              "      <td>False</td>\n",
              "      <td>False</td>\n",
              "      <td>False</td>\n",
              "      <td>False</td>\n",
              "      <td>False</td>\n",
              "      <td>False</td>\n",
              "      <td>False</td>\n",
              "      <td>False</td>\n",
              "    </tr>\n",
              "    <tr>\n",
              "      <th>4</th>\n",
              "      <td>False</td>\n",
              "      <td>False</td>\n",
              "      <td>False</td>\n",
              "      <td>False</td>\n",
              "      <td>False</td>\n",
              "      <td>False</td>\n",
              "      <td>False</td>\n",
              "      <td>False</td>\n",
              "      <td>False</td>\n",
              "    </tr>\n",
              "    <tr>\n",
              "      <th>...</th>\n",
              "      <td>...</td>\n",
              "      <td>...</td>\n",
              "      <td>...</td>\n",
              "      <td>...</td>\n",
              "      <td>...</td>\n",
              "      <td>...</td>\n",
              "      <td>...</td>\n",
              "      <td>...</td>\n",
              "      <td>...</td>\n",
              "    </tr>\n",
              "    <tr>\n",
              "      <th>38754</th>\n",
              "      <td>False</td>\n",
              "      <td>False</td>\n",
              "      <td>False</td>\n",
              "      <td>False</td>\n",
              "      <td>False</td>\n",
              "      <td>False</td>\n",
              "      <td>False</td>\n",
              "      <td>False</td>\n",
              "      <td>False</td>\n",
              "    </tr>\n",
              "    <tr>\n",
              "      <th>38755</th>\n",
              "      <td>False</td>\n",
              "      <td>False</td>\n",
              "      <td>False</td>\n",
              "      <td>False</td>\n",
              "      <td>False</td>\n",
              "      <td>False</td>\n",
              "      <td>False</td>\n",
              "      <td>False</td>\n",
              "      <td>False</td>\n",
              "    </tr>\n",
              "    <tr>\n",
              "      <th>38756</th>\n",
              "      <td>False</td>\n",
              "      <td>False</td>\n",
              "      <td>False</td>\n",
              "      <td>False</td>\n",
              "      <td>False</td>\n",
              "      <td>False</td>\n",
              "      <td>False</td>\n",
              "      <td>False</td>\n",
              "      <td>False</td>\n",
              "    </tr>\n",
              "    <tr>\n",
              "      <th>38757</th>\n",
              "      <td>False</td>\n",
              "      <td>False</td>\n",
              "      <td>False</td>\n",
              "      <td>False</td>\n",
              "      <td>False</td>\n",
              "      <td>False</td>\n",
              "      <td>False</td>\n",
              "      <td>False</td>\n",
              "      <td>False</td>\n",
              "    </tr>\n",
              "    <tr>\n",
              "      <th>38758</th>\n",
              "      <td>False</td>\n",
              "      <td>False</td>\n",
              "      <td>False</td>\n",
              "      <td>False</td>\n",
              "      <td>False</td>\n",
              "      <td>False</td>\n",
              "      <td>False</td>\n",
              "      <td>False</td>\n",
              "      <td>False</td>\n",
              "    </tr>\n",
              "  </tbody>\n",
              "</table>\n",
              "<p>38759 rows × 9 columns</p>\n",
              "</div>"
            ],
            "text/plain": [
              "       review_id  user_id  business_id  stars  ...  funny   cool   text   date\n",
              "0          False    False        False  False  ...  False  False  False  False\n",
              "1          False    False        False  False  ...  False  False  False  False\n",
              "2          False    False        False  False  ...  False  False  False  False\n",
              "3          False    False        False  False  ...  False  False  False  False\n",
              "4          False    False        False  False  ...  False  False  False  False\n",
              "...          ...      ...          ...    ...  ...    ...    ...    ...    ...\n",
              "38754      False    False        False  False  ...  False  False  False  False\n",
              "38755      False    False        False  False  ...  False  False  False  False\n",
              "38756      False    False        False  False  ...  False  False  False  False\n",
              "38757      False    False        False  False  ...  False  False  False  False\n",
              "38758      False    False        False  False  ...  False  False  False  False\n",
              "\n",
              "[38759 rows x 9 columns]"
            ]
          },
          "metadata": {},
          "execution_count": 14
        }
      ]
    },
    {
      "cell_type": "code",
      "metadata": {
        "colab": {
          "base_uri": "https://localhost:8080/",
          "height": 70
        },
        "id": "e485c812",
        "outputId": "2af9266d-bf5d-459e-f2fe-008dc797b051"
      },
      "source": [
        "# Displaying text review from the column text\n",
        "data_reviews.text[0]"
      ],
      "id": "e485c812",
      "execution_count": null,
      "outputs": [
        {
          "output_type": "execute_result",
          "data": {
            "application/vnd.google.colaboratory.intrinsic+json": {
              "type": "string"
            },
            "text/plain": [
              "\"While visiting from out of town we visited this coffee shop every day.  I like the ceramic cups when you order in.  I hate the cheap paper cups of the big name coffee establishments.  I don't get how they can serve you a $5 coffee in a paper cup??  We had their fresh baked goods and all were amazing!\""
            ]
          },
          "metadata": {},
          "execution_count": 16
        }
      ]
    },
    {
      "cell_type": "code",
      "metadata": {
        "id": "ee3c3fcf"
      },
      "source": [
        "# Retrieving the length of the reviews in  each row \n",
        "data_reviews['length'] = data_reviews.text.apply(len)"
      ],
      "id": "ee3c3fcf",
      "execution_count": null,
      "outputs": []
    },
    {
      "cell_type": "code",
      "metadata": {
        "colab": {
          "base_uri": "https://localhost:8080/",
          "height": 283
        },
        "id": "cb142280",
        "outputId": "c5c45294-17eb-4f66-a44a-cdc9a3aa4cfc"
      },
      "source": [
        "# Histogram showin the length of reviews\n",
        "data_reviews.length.plot(bins = 20, kind='hist')"
      ],
      "id": "cb142280",
      "execution_count": null,
      "outputs": [
        {
          "output_type": "execute_result",
          "data": {
            "text/plain": [
              "<matplotlib.axes._subplots.AxesSubplot at 0x7f8e0d1c2e90>"
            ]
          },
          "metadata": {},
          "execution_count": 18
        },
        {
          "output_type": "display_data",
          "data": {
            "image/png": "[encoded data removed]",
            "text/plain": [
              "<Figure size 432x288 with 1 Axes>"
            ]
          },
          "metadata": {
            "needs_background": "light"
          }
        }
      ]
    },
    {
      "cell_type": "code",
      "metadata": {
        "colab": {
          "base_uri": "https://localhost:8080/"
        },
        "id": "ca7bdb6b",
        "outputId": "cce27d5b-2eb9-4875-9347-96eb1125025f"
      },
      "source": [
        "# Summary Statistics showing the min and max length of reviews\n",
        "data_reviews.length.describe()"
      ],
      "id": "ca7bdb6b",
      "execution_count": null,
      "outputs": [
        {
          "output_type": "execute_result",
          "data": {
            "text/plain": [
              "count    38759.000000\n",
              "mean       316.166310\n",
              "std        232.167239\n",
              "min          1.000000\n",
              "25%        157.000000\n",
              "50%        257.000000\n",
              "75%        408.000000\n",
              "max       3767.000000\n",
              "Name: length, dtype: float64"
            ]
          },
          "metadata": {},
          "execution_count": 21
        }
      ]
    },
    {
      "cell_type": "code",
      "metadata": {
        "colab": {
          "base_uri": "https://localhost:8080/",
          "height": 191
        },
        "id": "e23a24e9",
        "outputId": "84d2f802-9cb9-4860-ec84-0d930eef7b35"
      },
      "source": [
        "# From summary stat max length is 2411, display text \n",
        "data_reviews[data_reviews.length==3767].text.iloc[0]"
      ],
      "id": "e23a24e9",
      "execution_count": null,
      "outputs": [
        {
          "output_type": "execute_result",
          "data": {
            "application/vnd.google.colaboratory.intrinsic+json": {
              "type": "string"
            },
            "text/plain": [
              "\"Made reservations via OpenTable for a birthday celebration.  There was only a large table outside on the patio with people and two people inside.  There were two waitress and one manager.  Our waitress took our drink order and we asked to start with the meatballs. The guys can beers came quickly while the ladies waited on their wine and cocktails. Then two large groups came in and we lost our waitress.  When the manager came over to see how we were we asked if we could order.  She took our order.  Everyone on the table ordered and then the manager told us about the steak special. Bragging about some new chef from Chicago. As such, two people changed their order.  She didn't ask how they wanted their steak which I thought was odd.  A couple of minutes later the waitress came and asked for the chef.  The birthday girl ordered the pork chops.  The menu stated pork chop, heirloom tomatoes with spinach. When the food showed up the heirloom tomatoes had pesto on them  No where was pesto listed on the menu. On our OpenTable profile it states we have a nut allergy in our party.  After trying to wave down the waitress, my husband got up and practically followed her to the kitchen where he asked if it was pesto on the plate. The waitress disagreed with him that there were nuts on the dish it is pesto.  The chef or his line help was like there are nuts in the pesto.  Of course, they took the food back and remade it.  The rest of our table could see the kitchen react poorly to having to remake the meal.  There is a small curtain to the kitchen but you can still see in where we sat. The other three ate their entrees while the birthday girl waited.  New plate came with no pesto but all of it was over salted and the pork was NOT cooked. The chef must have been in such a hurry he seared the pork and added salt as a substitute for pesto for flavor.  Of course, they didn't charge us for her meal and offered us free desert.  Well, I hope you would have anyway since it is her birthday.  The second waitress not our original waitress really made the birthday girl feel bad like it was her fault she didn't express she had a nut allergy.  Really why don't you put on the menu the dish has pesto.  Can we agree that it is at least 50/50 blame?  It was extremely rude.  Then to have the food come out under cooked.  It was just too much.  No mention was every made about the birthday the reason we were there.  Not charging for a meal that was under cooked isn't as great as they tried to make it.  She was still hungry.  Providing her a desert for messing up her meal when you should give her a desert for her birthday.  Everyone else food was fine but nothing to write home about.  For the cost really not worth what you pay.  There are better restaurants in town for the price point of The Wayback. The service is not very professional for the price point either.  When the waitress took our starter plates away she put the silver ware back on the table.  Either leave the starter plate so the silver ware doesn't have to touch the table or bring us fresh cutlery.  However, whatever you do don't touch the cutlery.  Then you add the issue with parking.  They have hand made signs to show you were to park in the gravel as their paved lot is obviously not large enough for their restaurant to be full and the cottages.  For me too many negatives to even give a second shot.  Price, parking, rude staff, non detail menu and lack of professional service.  If you have an allergy be sure to ask what is on the plate as they do not list everything on the menu.  Such a shame we wanted to at least like it as Bee Caves Road needs more good places.  How a place performs when things go badly shows their professionalism, sadly The Wayback didn't perform well.\""
            ]
          },
          "metadata": {},
          "execution_count": 22
        }
      ]
    },
    {
      "cell_type": "code",
      "metadata": {
        "colab": {
          "base_uri": "https://localhost:8080/",
          "height": 35
        },
        "id": "e7bfce5e",
        "outputId": "5471bc63-6c5b-4ac4-b0e5-769c1c332499"
      },
      "source": [
        "# From summary statistic min length is 4, display text \n",
        "data_reviews[data_reviews.length == 4].text.iloc[0]"
      ],
      "id": "e7bfce5e",
      "execution_count": null,
      "outputs": [
        {
          "output_type": "execute_result",
          "data": {
            "application/vnd.google.colaboratory.intrinsic+json": {
              "type": "string"
            },
            "text/plain": [
              "' and'"
            ]
          },
          "metadata": {},
          "execution_count": 23
        }
      ]
    },
    {
      "cell_type": "code",
      "metadata": {
        "colab": {
          "base_uri": "https://localhost:8080/",
          "height": 1000
        },
        "id": "sWh1VXRDQAG2",
        "outputId": "ea58e2ea-1263-4f0b-8213-7a1838e06daa"
      },
      "source": [
        "reviews_df.dropna()"
      ],
      "id": "sWh1VXRDQAG2",
      "execution_count": null,
      "outputs": [
        {
          "output_type": "execute_result",
          "data": {
            "text/html": [
              "<div>\n",
              "<style scoped>\n",
              "    .dataframe tbody tr th:only-of-type {\n",
              "        vertical-align: middle;\n",
              "    }\n",
              "\n",
              "    .dataframe tbody tr th {\n",
              "        vertical-align: top;\n",
              "    }\n",
              "\n",
              "    .dataframe thead th {\n",
              "        text-align: right;\n",
              "    }\n",
              "</style>\n",
              "<table border=\"1\" class=\"dataframe\">\n",
              "  <thead>\n",
              "    <tr style=\"text-align: right;\">\n",
              "      <th></th>\n",
              "      <th>review_id</th>\n",
              "      <th>user_id</th>\n",
              "      <th>business_id</th>\n",
              "      <th>stars</th>\n",
              "      <th>useful</th>\n",
              "      <th>funny</th>\n",
              "      <th>cool</th>\n",
              "      <th>text</th>\n",
              "      <th>date</th>\n",
              "      <th>length</th>\n",
              "    </tr>\n",
              "  </thead>\n",
              "  <tbody>\n",
              "    <tr>\n",
              "      <th>0</th>\n",
              "      <td>Udtn5NN5MWVUiUtn0lYSHQ</td>\n",
              "      <td>Fz1Dywsw1f6mzQCxh_Vnow</td>\n",
              "      <td>GhJvfGlMO10kUvOUz3Mk8g</td>\n",
              "      <td>1.0</td>\n",
              "      <td>0</td>\n",
              "      <td>0</td>\n",
              "      <td>0</td>\n",
              "      <td>Just awful! I went there today and bought 3 sa...</td>\n",
              "      <td>11/3/2018 18:32</td>\n",
              "      <td>506</td>\n",
              "    </tr>\n",
              "    <tr>\n",
              "      <th>1</th>\n",
              "      <td>0pMv5FM10Tq0Q0FMcRUGQg</td>\n",
              "      <td>1xCp--RYe6ijkZXqreUXaw</td>\n",
              "      <td>5AAbKTyJSyLzhJmU9PPc2Q</td>\n",
              "      <td>1.0</td>\n",
              "      <td>1</td>\n",
              "      <td>1</td>\n",
              "      <td>0</td>\n",
              "      <td>A had to give a star but really nothing good a...</td>\n",
              "      <td>10/15/2014 3:00</td>\n",
              "      <td>208</td>\n",
              "    </tr>\n",
              "    <tr>\n",
              "      <th>2</th>\n",
              "      <td>1Q-ol0RaIe-MmH5Obb_iNg</td>\n",
              "      <td>rYfa3Akt50HehDn2MbwT6w</td>\n",
              "      <td>X-73k3cwBjjc170MOdPa7A</td>\n",
              "      <td>5.0</td>\n",
              "      <td>0</td>\n",
              "      <td>0</td>\n",
              "      <td>0</td>\n",
              "      <td>While visiting from out of town we visited thi...</td>\n",
              "      <td>5/7/2014 17:11</td>\n",
              "      <td>301</td>\n",
              "    </tr>\n",
              "    <tr>\n",
              "      <th>4</th>\n",
              "      <td>#NAME?</td>\n",
              "      <td>kEUofFXFprWXieYZEBfXMw</td>\n",
              "      <td>OPfgKOm_n-ajUo3qjSEgRg</td>\n",
              "      <td>5.0</td>\n",
              "      <td>0</td>\n",
              "      <td>0</td>\n",
              "      <td>0</td>\n",
              "      <td>It is exactly what book heaven is suppose to l...</td>\n",
              "      <td>9/29/2014 22:40</td>\n",
              "      <td>92</td>\n",
              "    </tr>\n",
              "    <tr>\n",
              "      <th>5</th>\n",
              "      <td>of7-aqFFpwVSw5Nfr9-lCg</td>\n",
              "      <td>PP4f5o46hXnuvzRJaFXoDQ</td>\n",
              "      <td>OPfgKOm_n-ajUo3qjSEgRg</td>\n",
              "      <td>4.0</td>\n",
              "      <td>0</td>\n",
              "      <td>0</td>\n",
              "      <td>0</td>\n",
              "      <td>Excellent place to relax, sip on coffee, and r...</td>\n",
              "      <td>10/31/2012 18:56</td>\n",
              "      <td>60</td>\n",
              "    </tr>\n",
              "    <tr>\n",
              "      <th>...</th>\n",
              "      <td>...</td>\n",
              "      <td>...</td>\n",
              "      <td>...</td>\n",
              "      <td>...</td>\n",
              "      <td>...</td>\n",
              "      <td>...</td>\n",
              "      <td>...</td>\n",
              "      <td>...</td>\n",
              "      <td>...</td>\n",
              "      <td>...</td>\n",
              "    </tr>\n",
              "    <tr>\n",
              "      <th>4995</th>\n",
              "      <td>m4XXtbeHFX97B_Uvx_KSeQ</td>\n",
              "      <td>XxUA8KvvdCvnxi72Ro9pSg</td>\n",
              "      <td>03o1CqC4vkPbEvS02AnZXg</td>\n",
              "      <td>4.0</td>\n",
              "      <td>0</td>\n",
              "      <td>0</td>\n",
              "      <td>0</td>\n",
              "      <td>I'm a fan, and don't get me wrong, the gelato ...</td>\n",
              "      <td>8/20/2015 2:14</td>\n",
              "      <td>1081</td>\n",
              "    </tr>\n",
              "    <tr>\n",
              "      <th>4996</th>\n",
              "      <td>-52oSYk2WSPd8DWLIxalSQ</td>\n",
              "      <td>c_u4XuNK1u1AfPOuwFnnNg</td>\n",
              "      <td>ir04wuNU2pViqn-LnkMsYg</td>\n",
              "      <td>5.0</td>\n",
              "      <td>1</td>\n",
              "      <td>1</td>\n",
              "      <td>1</td>\n",
              "      <td>This is my favorite place to get coffee. Perio...</td>\n",
              "      <td>6/12/2014 13:40</td>\n",
              "      <td>186</td>\n",
              "    </tr>\n",
              "    <tr>\n",
              "      <th>4997</th>\n",
              "      <td>sw_QF-Is9yzQ863AW2UyFA</td>\n",
              "      <td>bmInmP_8TeCdeiEyr0fcvg</td>\n",
              "      <td>ir04wuNU2pViqn-LnkMsYg</td>\n",
              "      <td>5.0</td>\n",
              "      <td>1</td>\n",
              "      <td>0</td>\n",
              "      <td>1</td>\n",
              "      <td>Top notch traditional machiatto and they serve...</td>\n",
              "      <td>6/29/2014 2:31</td>\n",
              "      <td>136</td>\n",
              "    </tr>\n",
              "    <tr>\n",
              "      <th>4998</th>\n",
              "      <td>MfCBKFpeLfwMp-Ib_dvhRA</td>\n",
              "      <td>bCXfPxI_QC4gXt1qmU8Aww</td>\n",
              "      <td>gqrOBvj-ffGnNn3ygqVteA</td>\n",
              "      <td>5.0</td>\n",
              "      <td>1</td>\n",
              "      <td>0</td>\n",
              "      <td>0</td>\n",
              "      <td>This place was so unique! If you like differen...</td>\n",
              "      <td>3/18/2016 0:38</td>\n",
              "      <td>493</td>\n",
              "    </tr>\n",
              "    <tr>\n",
              "      <th>4999</th>\n",
              "      <td>kGCL-MCrLbMQEePgTjdD1Q</td>\n",
              "      <td>7q2Ikb0TquCyAlxPD-paLw</td>\n",
              "      <td>F6lPGe3gA2SIaHaTvqrq7w</td>\n",
              "      <td>1.0</td>\n",
              "      <td>0</td>\n",
              "      <td>0</td>\n",
              "      <td>0</td>\n",
              "      <td>Worst service EVER! Stood there waiting for my...</td>\n",
              "      <td>2/9/2017 15:41</td>\n",
              "      <td>150</td>\n",
              "    </tr>\n",
              "  </tbody>\n",
              "</table>\n",
              "<p>4808 rows × 10 columns</p>\n",
              "</div>"
            ],
            "text/plain": [
              "                   review_id                 user_id  ...              date  length\n",
              "0     Udtn5NN5MWVUiUtn0lYSHQ  Fz1Dywsw1f6mzQCxh_Vnow  ...   11/3/2018 18:32     506\n",
              "1     0pMv5FM10Tq0Q0FMcRUGQg  1xCp--RYe6ijkZXqreUXaw  ...   10/15/2014 3:00     208\n",
              "2     1Q-ol0RaIe-MmH5Obb_iNg  rYfa3Akt50HehDn2MbwT6w  ...    5/7/2014 17:11     301\n",
              "4                     #NAME?  kEUofFXFprWXieYZEBfXMw  ...   9/29/2014 22:40      92\n",
              "5     of7-aqFFpwVSw5Nfr9-lCg  PP4f5o46hXnuvzRJaFXoDQ  ...  10/31/2012 18:56      60\n",
              "...                      ...                     ...  ...               ...     ...\n",
              "4995  m4XXtbeHFX97B_Uvx_KSeQ  XxUA8KvvdCvnxi72Ro9pSg  ...    8/20/2015 2:14    1081\n",
              "4996  -52oSYk2WSPd8DWLIxalSQ  c_u4XuNK1u1AfPOuwFnnNg  ...   6/12/2014 13:40     186\n",
              "4997  sw_QF-Is9yzQ863AW2UyFA  bmInmP_8TeCdeiEyr0fcvg  ...    6/29/2014 2:31     136\n",
              "4998  MfCBKFpeLfwMp-Ib_dvhRA  bCXfPxI_QC4gXt1qmU8Aww  ...    3/18/2016 0:38     493\n",
              "4999  kGCL-MCrLbMQEePgTjdD1Q  7q2Ikb0TquCyAlxPD-paLw  ...    2/9/2017 15:41     150\n",
              "\n",
              "[4808 rows x 10 columns]"
            ]
          },
          "metadata": {},
          "execution_count": 49
        }
      ]
    },
    {
      "cell_type": "code",
      "metadata": {
        "colab": {
          "base_uri": "https://localhost:8080/"
        },
        "id": "7K6KrxGsQ8RS",
        "outputId": "85f20bbd-192d-4f93-9374-0d63baf73633"
      },
      "source": [
        "data_reviews.info()"
      ],
      "id": "7K6KrxGsQ8RS",
      "execution_count": null,
      "outputs": [
        {
          "output_type": "stream",
          "name": "stdout",
          "text": [
            "<class 'pandas.core.frame.DataFrame'>\n",
            "RangeIndex: 38759 entries, 0 to 38758\n",
            "Data columns (total 10 columns):\n",
            " #   Column       Non-Null Count  Dtype \n",
            "---  ------       --------------  ----- \n",
            " 0   review_id    38759 non-null  object\n",
            " 1   user_id      38759 non-null  object\n",
            " 2   business_id  38759 non-null  object\n",
            " 3   stars        38759 non-null  int64 \n",
            " 4   useful       38759 non-null  object\n",
            " 5   funny        38759 non-null  object\n",
            " 6   cool         38759 non-null  object\n",
            " 7   text         38759 non-null  object\n",
            " 8   date         38759 non-null  object\n",
            " 9   length       38759 non-null  int64 \n",
            "dtypes: int64(2), object(8)\n",
            "memory usage: 3.0+ MB\n"
          ]
        }
      ]
    },
    {
      "cell_type": "code",
      "metadata": {
        "colab": {
          "base_uri": "https://localhost:8080/",
          "height": 300
        },
        "id": "oBpBIi12Qirq",
        "outputId": "029b8023-d872-48d2-85a5-492702bc7b6a"
      },
      "source": [
        "data_reviews.describe()"
      ],
      "id": "oBpBIi12Qirq",
      "execution_count": null,
      "outputs": [
        {
          "output_type": "execute_result",
          "data": {
            "text/html": [
              "<div>\n",
              "<style scoped>\n",
              "    .dataframe tbody tr th:only-of-type {\n",
              "        vertical-align: middle;\n",
              "    }\n",
              "\n",
              "    .dataframe tbody tr th {\n",
              "        vertical-align: top;\n",
              "    }\n",
              "\n",
              "    .dataframe thead th {\n",
              "        text-align: right;\n",
              "    }\n",
              "</style>\n",
              "<table border=\"1\" class=\"dataframe\">\n",
              "  <thead>\n",
              "    <tr style=\"text-align: right;\">\n",
              "      <th></th>\n",
              "      <th>stars</th>\n",
              "      <th>length</th>\n",
              "    </tr>\n",
              "  </thead>\n",
              "  <tbody>\n",
              "    <tr>\n",
              "      <th>count</th>\n",
              "      <td>38759.000000</td>\n",
              "      <td>38759.000000</td>\n",
              "    </tr>\n",
              "    <tr>\n",
              "      <th>mean</th>\n",
              "      <td>3.769602</td>\n",
              "      <td>316.166310</td>\n",
              "    </tr>\n",
              "    <tr>\n",
              "      <th>std</th>\n",
              "      <td>1.554840</td>\n",
              "      <td>232.167239</td>\n",
              "    </tr>\n",
              "    <tr>\n",
              "      <th>min</th>\n",
              "      <td>0.000000</td>\n",
              "      <td>1.000000</td>\n",
              "    </tr>\n",
              "    <tr>\n",
              "      <th>25%</th>\n",
              "      <td>3.000000</td>\n",
              "      <td>157.000000</td>\n",
              "    </tr>\n",
              "    <tr>\n",
              "      <th>50%</th>\n",
              "      <td>4.000000</td>\n",
              "      <td>257.000000</td>\n",
              "    </tr>\n",
              "    <tr>\n",
              "      <th>75%</th>\n",
              "      <td>5.000000</td>\n",
              "      <td>408.000000</td>\n",
              "    </tr>\n",
              "    <tr>\n",
              "      <th>max</th>\n",
              "      <td>5.000000</td>\n",
              "      <td>3767.000000</td>\n",
              "    </tr>\n",
              "  </tbody>\n",
              "</table>\n",
              "</div>"
            ],
            "text/plain": [
              "              stars        length\n",
              "count  38759.000000  38759.000000\n",
              "mean       3.769602    316.166310\n",
              "std        1.554840    232.167239\n",
              "min        0.000000      1.000000\n",
              "25%        3.000000    157.000000\n",
              "50%        4.000000    257.000000\n",
              "75%        5.000000    408.000000\n",
              "max        5.000000   3767.000000"
            ]
          },
          "metadata": {},
          "execution_count": 25
        }
      ]
    },
    {
      "cell_type": "code",
      "metadata": {
        "colab": {
          "base_uri": "https://localhost:8080/",
          "height": 351
        },
        "id": "ce2aeed0",
        "outputId": "eb364775-786a-4d0e-8b59-25a56edac5f1"
      },
      "source": [
        "# Bar chart showing the count of each review (1 - 5)\n",
        "\n",
        "sns.countplot(data_reviews.stars, palette='GnBu_d')"
      ],
      "id": "ce2aeed0",
      "execution_count": null,
      "outputs": [
        {
          "output_type": "stream",
          "name": "stderr",
          "text": [
            "/usr/local/lib/python3.7/dist-packages/seaborn/_decorators.py:43: FutureWarning: Pass the following variable as a keyword arg: x. From version 0.12, the only valid positional argument will be `data`, and passing other arguments without an explicit keyword will result in an error or misinterpretation.\n",
            "  FutureWarning\n"
          ]
        },
        {
          "output_type": "execute_result",
          "data": {
            "text/plain": [
              "<matplotlib.axes._subplots.AxesSubplot at 0x7f8e0c9c1090>"
            ]
          },
          "metadata": {},
          "execution_count": 27
        },
        {
          "output_type": "display_data",
          "data": {
            "image/png": "[encoded data removed]",
            "text/plain": [
              "<Figure size 432x288 with 1 Axes>"
            ]
          },
          "metadata": {
            "needs_background": "light"
          }
        }
      ]
    },
    {
      "cell_type": "code",
      "metadata": {
        "colab": {
          "base_uri": "https://localhost:8080/",
          "height": 459
        },
        "id": "4fc1192e",
        "outputId": "9cb415e2-0891-46a4-cee8-1d6d9a62ab79"
      },
      "source": [
        "# Histogram for each star review \n",
        "g =sns.FacetGrid(data =data_reviews,col='stars',col_wrap=3)\n",
        "g.map(plt.hist,'length',bins=20,color='orange')"
      ],
      "id": "4fc1192e",
      "execution_count": null,
      "outputs": [
        {
          "output_type": "execute_result",
          "data": {
            "text/plain": [
              "<seaborn.axisgrid.FacetGrid at 0x7f8e0c920f90>"
            ]
          },
          "metadata": {},
          "execution_count": 28
        },
        {
          "output_type": "display_data",
          "data": {
            "image/png": "[encoded data removed]",
            "text/plain": [
              "<Figure size 648x432 with 6 Axes>"
            ]
          },
          "metadata": {
            "needs_background": "light"
          }
        }
      ]
    },
    {
      "cell_type": "markdown",
      "metadata": {
        "id": "93fe895a"
      },
      "source": [
        "The histograms above shows that most customers that write 1, 2, 3 stars write less than 1,000 words."
      ],
      "id": "93fe895a"
    },
    {
      "cell_type": "code",
      "metadata": {
        "colab": {
          "base_uri": "https://localhost:8080/",
          "height": 351
        },
        "id": "ce48f779",
        "outputId": "1b3af089-330b-434a-fb57-c0d1a8bc9d45"
      },
      "source": [
        "# excluding stars in the 3 star group, bar chart displayed\n",
        "sns.countplot(data_reviews[data_reviews.stars!=3].stars)"
      ],
      "id": "ce48f779",
      "execution_count": null,
      "outputs": [
        {
          "output_type": "stream",
          "name": "stderr",
          "text": [
            "/usr/local/lib/python3.7/dist-packages/seaborn/_decorators.py:43: FutureWarning: Pass the following variable as a keyword arg: x. From version 0.12, the only valid positional argument will be `data`, and passing other arguments without an explicit keyword will result in an error or misinterpretation.\n",
            "  FutureWarning\n"
          ]
        },
        {
          "output_type": "execute_result",
          "data": {
            "text/plain": [
              "<matplotlib.axes._subplots.AxesSubplot at 0x7f8e03d919d0>"
            ]
          },
          "metadata": {},
          "execution_count": 30
        },
        {
          "output_type": "display_data",
          "data": {
            "image/png": "[encoded data removed]",
            "text/plain": [
              "<Figure size 432x288 with 1 Axes>"
            ]
          },
          "metadata": {
            "needs_background": "light"
          }
        }
      ]
    },
    {
      "cell_type": "markdown",
      "metadata": {
        "id": "f313c534"
      },
      "source": [
        "Grouping 4 & 5 stars as 1 which represents Satisfied Customers and 0, 1 & 2 stars as 0 which represents dissatisfied customers. This analysis considers 3 star reviews as neutral reviews. 3 star reviews are excluded from the data."
      ],
      "id": "f313c534"
    },
    {
      "cell_type": "code",
      "metadata": {
        "id": "e68d10e0"
      },
      "source": [
        "# Removing rows with 3 star reviews\n",
        "data_reviews = data_reviews[data_reviews.stars!=3]"
      ],
      "id": "e68d10e0",
      "execution_count": null,
      "outputs": []
    },
    {
      "cell_type": "code",
      "metadata": {
        "id": "ea226342"
      },
      "source": [
        "# User defined function created to group 4 and 5 star as 1. Also group 1 and 2 stars as 0\n",
        "def create_target(stars):\n",
        "    if stars < 3:\n",
        "        target = 0#\n",
        "    else:\n",
        "        target = 1\n",
        "    return target"
      ],
      "id": "ea226342",
      "execution_count": null,
      "outputs": []
    },
    {
      "cell_type": "code",
      "metadata": {
        "colab": {
          "base_uri": "https://localhost:8080/"
        },
        "id": "957d10a1",
        "outputId": "66286d38-4542-4c8b-8583-da3f9cf49d1b"
      },
      "source": [
        "# Target column created from udf create_target\n",
        "data_reviews['target'] = data_reviews.stars.apply(create_target)"
      ],
      "id": "957d10a1",
      "execution_count": null,
      "outputs": [
        {
          "output_type": "stream",
          "name": "stderr",
          "text": [
            "/usr/local/lib/python3.7/dist-packages/ipykernel_launcher.py:2: SettingWithCopyWarning: \n",
            "A value is trying to be set on a copy of a slice from a DataFrame.\n",
            "Try using .loc[row_indexer,col_indexer] = value instead\n",
            "\n",
            "See the caveats in the documentation: https://pandas.pydata.org/pandas-docs/stable/user_guide/indexing.html#returning-a-view-versus-a-copy\n",
            "  \n"
          ]
        }
      ]
    },
    {
      "cell_type": "code",
      "metadata": {
        "colab": {
          "base_uri": "https://localhost:8080/",
          "height": 423
        },
        "id": "1bd9bb3d",
        "outputId": "fb0bb06f-60e9-4918-f386-59edbbf0f9ce"
      },
      "source": [
        "# display the dataframe for stars and target columns\n",
        "data_reviews[['stars','target']]"
      ],
      "id": "1bd9bb3d",
      "execution_count": null,
      "outputs": [
        {
          "output_type": "execute_result",
          "data": {
            "text/html": [
              "<div>\n",
              "<style scoped>\n",
              "    .dataframe tbody tr th:only-of-type {\n",
              "        vertical-align: middle;\n",
              "    }\n",
              "\n",
              "    .dataframe tbody tr th {\n",
              "        vertical-align: top;\n",
              "    }\n",
              "\n",
              "    .dataframe thead th {\n",
              "        text-align: right;\n",
              "    }\n",
              "</style>\n",
              "<table border=\"1\" class=\"dataframe\">\n",
              "  <thead>\n",
              "    <tr style=\"text-align: right;\">\n",
              "      <th></th>\n",
              "      <th>stars</th>\n",
              "      <th>target</th>\n",
              "    </tr>\n",
              "  </thead>\n",
              "  <tbody>\n",
              "    <tr>\n",
              "      <th>0</th>\n",
              "      <td>5</td>\n",
              "      <td>1</td>\n",
              "    </tr>\n",
              "    <tr>\n",
              "      <th>1</th>\n",
              "      <td>5</td>\n",
              "      <td>1</td>\n",
              "    </tr>\n",
              "    <tr>\n",
              "      <th>3</th>\n",
              "      <td>5</td>\n",
              "      <td>1</td>\n",
              "    </tr>\n",
              "    <tr>\n",
              "      <th>4</th>\n",
              "      <td>4</td>\n",
              "      <td>1</td>\n",
              "    </tr>\n",
              "    <tr>\n",
              "      <th>5</th>\n",
              "      <td>2</td>\n",
              "      <td>0</td>\n",
              "    </tr>\n",
              "    <tr>\n",
              "      <th>...</th>\n",
              "      <td>...</td>\n",
              "      <td>...</td>\n",
              "    </tr>\n",
              "    <tr>\n",
              "      <th>38754</th>\n",
              "      <td>5</td>\n",
              "      <td>1</td>\n",
              "    </tr>\n",
              "    <tr>\n",
              "      <th>38755</th>\n",
              "      <td>1</td>\n",
              "      <td>0</td>\n",
              "    </tr>\n",
              "    <tr>\n",
              "      <th>38756</th>\n",
              "      <td>5</td>\n",
              "      <td>1</td>\n",
              "    </tr>\n",
              "    <tr>\n",
              "      <th>38757</th>\n",
              "      <td>2</td>\n",
              "      <td>0</td>\n",
              "    </tr>\n",
              "    <tr>\n",
              "      <th>38758</th>\n",
              "      <td>5</td>\n",
              "      <td>1</td>\n",
              "    </tr>\n",
              "  </tbody>\n",
              "</table>\n",
              "<p>35277 rows × 2 columns</p>\n",
              "</div>"
            ],
            "text/plain": [
              "       stars  target\n",
              "0          5       1\n",
              "1          5       1\n",
              "3          5       1\n",
              "4          4       1\n",
              "5          2       0\n",
              "...      ...     ...\n",
              "38754      5       1\n",
              "38755      1       0\n",
              "38756      5       1\n",
              "38757      2       0\n",
              "38758      5       1\n",
              "\n",
              "[35277 rows x 2 columns]"
            ]
          },
          "metadata": {},
          "execution_count": 35
        }
      ]
    },
    {
      "cell_type": "code",
      "metadata": {
        "colab": {
          "base_uri": "https://localhost:8080/",
          "height": 35
        },
        "id": "eb02dfae",
        "outputId": "f9504630-9237-412b-8850-75b72af6ffc1"
      },
      "source": [
        "# Punctuation\n",
        "import string\n",
        "string.punctuation"
      ],
      "id": "eb02dfae",
      "execution_count": null,
      "outputs": [
        {
          "output_type": "execute_result",
          "data": {
            "application/vnd.google.colaboratory.intrinsic+json": {
              "type": "string"
            },
            "text/plain": [
              "'!\"#$%&\\'()*+,-./:;<=>?@[\\\\]^_`{|}~'"
            ]
          },
          "metadata": {},
          "execution_count": 36
        }
      ]
    },
    {
      "cell_type": "code",
      "metadata": {
        "colab": {
          "base_uri": "https://localhost:8080/"
        },
        "id": "a7f2b36e",
        "outputId": "5ff2f63a-919b-450d-d68d-2f270e82171c"
      },
      "source": [
        "# Stopwords\n",
        "\n",
        "import nltk\n",
        "nltk.download('stopwords')\n",
        "from nltk.corpus import stopwords\n",
        "stopwords.words('english')"
      ],
      "id": "a7f2b36e",
      "execution_count": null,
      "outputs": [
        {
          "output_type": "stream",
          "name": "stdout",
          "text": [
            "[nltk_data] Downloading package stopwords to /root/nltk_data...\n",
            "[nltk_data]   Unzipping corpora/stopwords.zip.\n"
          ]
        },
        {
          "output_type": "execute_result",
          "data": {
            "text/plain": [
              "['i',\n",
              " 'me',\n",
              " 'my',\n",
              " 'myself',\n",
              " 'we',\n",
              " 'our',\n",
              " 'ours',\n",
              " 'ourselves',\n",
              " 'you',\n",
              " \"you're\",\n",
              " \"you've\",\n",
              " \"you'll\",\n",
              " \"you'd\",\n",
              " 'your',\n",
              " 'yours',\n",
              " 'yourself',\n",
              " 'yourselves',\n",
              " 'he',\n",
              " 'him',\n",
              " 'his',\n",
              " 'himself',\n",
              " 'she',\n",
              " \"she's\",\n",
              " 'her',\n",
              " 'hers',\n",
              " 'herself',\n",
              " 'it',\n",
              " \"it's\",\n",
              " 'its',\n",
              " 'itself',\n",
              " 'they',\n",
              " 'them',\n",
              " 'their',\n",
              " 'theirs',\n",
              " 'themselves',\n",
              " 'what',\n",
              " 'which',\n",
              " 'who',\n",
              " 'whom',\n",
              " 'this',\n",
              " 'that',\n",
              " \"that'll\",\n",
              " 'these',\n",
              " 'those',\n",
              " 'am',\n",
              " 'is',\n",
              " 'are',\n",
              " 'was',\n",
              " 'were',\n",
              " 'be',\n",
              " 'been',\n",
              " 'being',\n",
              " 'have',\n",
              " 'has',\n",
              " 'had',\n",
              " 'having',\n",
              " 'do',\n",
              " 'does',\n",
              " 'did',\n",
              " 'doing',\n",
              " 'a',\n",
              " 'an',\n",
              " 'the',\n",
              " 'and',\n",
              " 'but',\n",
              " 'if',\n",
              " 'or',\n",
              " 'because',\n",
              " 'as',\n",
              " 'until',\n",
              " 'while',\n",
              " 'of',\n",
              " 'at',\n",
              " 'by',\n",
              " 'for',\n",
              " 'with',\n",
              " 'about',\n",
              " 'against',\n",
              " 'between',\n",
              " 'into',\n",
              " 'through',\n",
              " 'during',\n",
              " 'before',\n",
              " 'after',\n",
              " 'above',\n",
              " 'below',\n",
              " 'to',\n",
              " 'from',\n",
              " 'up',\n",
              " 'down',\n",
              " 'in',\n",
              " 'out',\n",
              " 'on',\n",
              " 'off',\n",
              " 'over',\n",
              " 'under',\n",
              " 'again',\n",
              " 'further',\n",
              " 'then',\n",
              " 'once',\n",
              " 'here',\n",
              " 'there',\n",
              " 'when',\n",
              " 'where',\n",
              " 'why',\n",
              " 'how',\n",
              " 'all',\n",
              " 'any',\n",
              " 'both',\n",
              " 'each',\n",
              " 'few',\n",
              " 'more',\n",
              " 'most',\n",
              " 'other',\n",
              " 'some',\n",
              " 'such',\n",
              " 'no',\n",
              " 'nor',\n",
              " 'not',\n",
              " 'only',\n",
              " 'own',\n",
              " 'same',\n",
              " 'so',\n",
              " 'than',\n",
              " 'too',\n",
              " 'very',\n",
              " 's',\n",
              " 't',\n",
              " 'can',\n",
              " 'will',\n",
              " 'just',\n",
              " 'don',\n",
              " \"don't\",\n",
              " 'should',\n",
              " \"should've\",\n",
              " 'now',\n",
              " 'd',\n",
              " 'll',\n",
              " 'm',\n",
              " 'o',\n",
              " 're',\n",
              " 've',\n",
              " 'y',\n",
              " 'ain',\n",
              " 'aren',\n",
              " \"aren't\",\n",
              " 'couldn',\n",
              " \"couldn't\",\n",
              " 'didn',\n",
              " \"didn't\",\n",
              " 'doesn',\n",
              " \"doesn't\",\n",
              " 'hadn',\n",
              " \"hadn't\",\n",
              " 'hasn',\n",
              " \"hasn't\",\n",
              " 'haven',\n",
              " \"haven't\",\n",
              " 'isn',\n",
              " \"isn't\",\n",
              " 'ma',\n",
              " 'mightn',\n",
              " \"mightn't\",\n",
              " 'mustn',\n",
              " \"mustn't\",\n",
              " 'needn',\n",
              " \"needn't\",\n",
              " 'shan',\n",
              " \"shan't\",\n",
              " 'shouldn',\n",
              " \"shouldn't\",\n",
              " 'wasn',\n",
              " \"wasn't\",\n",
              " 'weren',\n",
              " \"weren't\",\n",
              " 'won',\n",
              " \"won't\",\n",
              " 'wouldn',\n",
              " \"wouldn't\"]"
            ]
          },
          "metadata": {},
          "execution_count": 37
        }
      ]
    },
    {
      "cell_type": "code",
      "metadata": {
        "id": "e5e3e6bd"
      },
      "source": [
        "# user defined fuction to remove punctuations & stop words\n",
        "def text_cleaning(text):\n",
        "    remove_punctuation = ''.join([char for char in text if char not in string.punctuation])\n",
        "    remove_stopwords = [word for word in remove_punctuation.split() if word.lower() not in stopwords.words('english')]\n",
        "    return remove_stopwords"
      ],
      "id": "e5e3e6bd",
      "execution_count": null,
      "outputs": []
    },
    {
      "cell_type": "code",
      "metadata": {
        "id": "45adc40b"
      },
      "source": [
        "# count vectorization ( 2d matrix containing word frequency)\n",
        "from sklearn.feature_extraction.text import CountVectorizer\n",
        "CountVectorizer = CountVectorizer(analyzer = text_cleaning)\n",
        "review_vectorizer=CountVectorizer.fit_transform(data_reviews.text)"
      ],
      "id": "45adc40b",
      "execution_count": null,
      "outputs": []
    },
    {
      "cell_type": "code",
      "metadata": {
        "colab": {
          "base_uri": "https://localhost:8080/"
        },
        "id": "783731f9",
        "outputId": "96885590-99c9-440a-9250-4a0fed24e4ac"
      },
      "source": [
        "review_vectorizer.shape"
      ],
      "id": "783731f9",
      "execution_count": null,
      "outputs": [
        {
          "output_type": "execute_result",
          "data": {
            "text/plain": [
              "(35277, 44193)"
            ]
          },
          "metadata": {},
          "execution_count": 40
        }
      ]
    },
    {
      "cell_type": "code",
      "metadata": {
        "colab": {
          "base_uri": "https://localhost:8080/"
        },
        "id": "9ab135df",
        "outputId": "47b73477-0bdf-444e-80e5-a9053d5cc457"
      },
      "source": [
        "X =review_vectorizer\n",
        "y = data_reviews.target.values.reshape(-1,1)\n",
        "print(X.shape)\n",
        "print(y.shape)"
      ],
      "id": "9ab135df",
      "execution_count": null,
      "outputs": [
        {
          "output_type": "stream",
          "name": "stdout",
          "text": [
            "(35277, 44193)\n",
            "(35277, 1)\n"
          ]
        }
      ]
    },
    {
      "cell_type": "code",
      "metadata": {
        "id": "9643deda"
      },
      "source": [
        "# split the data into train and test\n",
        "from sklearn.model_selection import train_test_split\n",
        "X_train ,X_test, y_train, y_test = train_test_split(X,y,test_size =0.2)"
      ],
      "id": "9643deda",
      "execution_count": null,
      "outputs": []
    },
    {
      "cell_type": "code",
      "metadata": {
        "colab": {
          "base_uri": "https://localhost:8080/"
        },
        "id": "203ee924",
        "outputId": "a794d285-bf52-4435-9cbb-6ae6384be0b0"
      },
      "source": [
        "# train model\n",
        "from sklearn.naive_bayes import MultinomialNB\n",
        "NB_classifier = MultinomialNB()\n",
        "NB_classifier.fit(X_train, y_train.ravel())"
      ],
      "id": "203ee924",
      "execution_count": null,
      "outputs": [
        {
          "output_type": "execute_result",
          "data": {
            "text/plain": [
              "MultinomialNB()"
            ]
          },
          "metadata": {},
          "execution_count": 63
        }
      ]
    },
    {
      "cell_type": "code",
      "metadata": {
        "id": "1uScGT27yrvY"
      },
      "source": [
        "# make class predictions\n",
        "# y_pred_class = nb.predict(X_test)\n",
        "predict_train = NB_classifier.predict(X_train)"
      ],
      "id": "1uScGT27yrvY",
      "execution_count": null,
      "outputs": []
    },
    {
      "cell_type": "code",
      "metadata": {
        "colab": {
          "base_uri": "https://localhost:8080/",
          "height": 314
        },
        "id": "a6a24b69",
        "outputId": "fdd47168-6a29-47d3-c61b-c86b66b7c7f9"
      },
      "source": [
        "# print the confusion matrix for trained data\n",
        "from sklearn.metrics import classification_report,confusion_matrix\n",
        "predict_train = NB_classifier.predict(X_train)\n",
        "cf_matrix = confusion_matrix(y_train,predict_train)\n",
        "group_names = ['True Neg','False Pos','False Neg','True Pos']\n",
        "group_counts = [\"{0:0.0f}\".format(value) for value in\n",
        "                cf_matrix.flatten()]\n",
        "group_percentages = [\"{0:.2%}\".format(value) for value in\n",
        "                     cf_matrix.flatten()/np.sum(cf_matrix)]\n",
        "labels = [f\"{v1}\\n{v2}\\n{v3}\" for v1, v2, v3 in\n",
        "          zip(group_names,group_counts,group_percentages)]\n",
        "labels = np.asarray(labels).reshape(2,2)\n",
        "sns.heatmap(cf_matrix, annot=labels, fmt= '', cmap='YlGnBu')\n",
        "\n",
        "plt.ylabel(\"Actual\")\n",
        "plt.xlabel(\"Predicted\")\n",
        "print(cf_matrix)"
      ],
      "id": "a6a24b69",
      "execution_count": null,
      "outputs": [
        {
          "output_type": "stream",
          "name": "stdout",
          "text": [
            "[[ 5170  1516]\n",
            " [  587 20948]]\n"
          ]
        },
        {
          "output_type": "display_data",
          "data": {
            "image/png": "[encoded data removed]",
            "text/plain": [
              "<Figure size 432x288 with 2 Axes>"
            ]
          },
          "metadata": {
            "needs_background": "light"
          }
        }
      ]
    },
    {
      "cell_type": "code",
      "metadata": {
        "colab": {
          "base_uri": "https://localhost:8080/"
        },
        "id": "2dbdc374",
        "outputId": "0582495a-b52b-46fb-d7b9-6b21dad3ad29"
      },
      "source": [
        "print(classification_report(y_train,predict_train))"
      ],
      "id": "2dbdc374",
      "execution_count": null,
      "outputs": [
        {
          "output_type": "stream",
          "name": "stdout",
          "text": [
            "              precision    recall  f1-score   support\n",
            "\n",
            "           0       0.90      0.77      0.83      6686\n",
            "           1       0.93      0.97      0.95     21535\n",
            "\n",
            "    accuracy                           0.93     28221\n",
            "   macro avg       0.92      0.87      0.89     28221\n",
            "weighted avg       0.92      0.93      0.92     28221\n",
            "\n"
          ]
        }
      ]
    },
    {
      "cell_type": "code",
      "metadata": {
        "colab": {
          "base_uri": "https://localhost:8080/",
          "height": 314
        },
        "id": "ab4fa8c7",
        "outputId": "3cb9f5b2-23d6-43f1-ec2b-27f5e54cba86"
      },
      "source": [
        "# print the confusion matrix for test data\n",
        "predict_test = NB_classifier.predict(X_test)\n",
        "cf_matrix = confusion_matrix(y_test,predict_test)\n",
        "group_names = ['True Neg','False Pos','False Neg','True Pos']\n",
        "group_counts = [\"{0:0.0f}\".format(value) for value in\n",
        "                cf_matrix.flatten()]\n",
        "group_percentages = [\"{0:.2%}\".format(value) for value in\n",
        "                     cf_matrix.flatten()/np.sum(cf_matrix)]\n",
        "labels = [f\"{v1}\\n{v2}\\n{v3}\" for v1, v2, v3 in\n",
        "          zip(group_names,group_counts,group_percentages)]\n",
        "labels = np.asarray(labels).reshape(2,2)\n",
        "sns.heatmap(cf_matrix, annot=labels, fmt= '', cmap='YlGnBu')\n",
        "#sns.heatmap(cm,annot =True,cmap=\"YlGnBu\")\n",
        "plt.ylabel(\"Actual\")\n",
        "plt.xlabel(\"Predicted\")\n",
        "print(cf_matrix)"
      ],
      "id": "ab4fa8c7",
      "execution_count": null,
      "outputs": [
        {
          "output_type": "stream",
          "name": "stdout",
          "text": [
            "[[1219  466]\n",
            " [ 249 5122]]\n"
          ]
        },
        {
          "output_type": "display_data",
          "data": {
            "image/png": "[encoded data removed]",
            "text/plain": [
              "<Figure size 432x288 with 2 Axes>"
            ]
          },
          "metadata": {
            "needs_background": "light"
          }
        }
      ]
    },
    {
      "cell_type": "code",
      "metadata": {
        "id": "qo1KS8bry7GD"
      },
      "source": [
        "# make class predictions for X_test\n",
        "predictor = NB_classifier.predict(X_test)"
      ],
      "id": "qo1KS8bry7GD",
      "execution_count": null,
      "outputs": []
    },
    {
      "cell_type": "code",
      "metadata": {
        "colab": {
          "base_uri": "https://localhost:8080/"
        },
        "id": "hOEG1xIMzQaO",
        "outputId": "9b15c68e-50f1-4f17-b941-ce196085431d"
      },
      "source": [
        "# calculate accuracy of class predictions\n",
        "from sklearn import metrics\n",
        "metrics.accuracy_score(y_test, predictor)"
      ],
      "id": "hOEG1xIMzQaO",
      "execution_count": null,
      "outputs": [
        {
          "output_type": "execute_result",
          "data": {
            "text/plain": [
              "0.8986678004535147"
            ]
          },
          "metadata": {},
          "execution_count": 66
        }
      ]
    },
    {
      "cell_type": "markdown",
      "metadata": {
        "id": "dPutXNIshM_t"
      },
      "source": [
        "The accuracy of the model on the test data is TP + TN / (TP + FP + TN + FN)"
      ],
      "id": "dPutXNIshM_t"
    },
    {
      "cell_type": "code",
      "metadata": {
        "colab": {
          "base_uri": "https://localhost:8080/"
        },
        "id": "aaQEuEHdhKr1",
        "outputId": "39d7d2f1-6f77-4d5d-a8da-9a4ddeef56de"
      },
      "source": [
        "tn, fp, fn, tp = confusion_matrix(y_test, predict_test).ravel()\n",
        "accuracy = (tp + tn) / (tp + fp + tn + fn) # (5122 + 1219) / (5122 + 466 + 1219 + 249)\n",
        "print(f\"Accuracy: {accuracy}\")"
      ],
      "id": "aaQEuEHdhKr1",
      "execution_count": null,
      "outputs": [
        {
          "output_type": "stream",
          "name": "stdout",
          "text": [
            "Accuracy: 0.8986678004535147\n"
          ]
        }
      ]
    },
    {
      "cell_type": "code",
      "metadata": {
        "colab": {
          "base_uri": "https://localhost:8080/"
        },
        "id": "c37bd83c",
        "outputId": "c1ea52e4-695e-4565-da28-acb8d2dc40fe"
      },
      "source": [
        "print(classification_report(y_test, predict_test))"
      ],
      "id": "c37bd83c",
      "execution_count": null,
      "outputs": [
        {
          "output_type": "stream",
          "name": "stdout",
          "text": [
            "              precision    recall  f1-score   support\n",
            "\n",
            "           0       0.83      0.72      0.77      1685\n",
            "           1       0.92      0.95      0.93      5371\n",
            "\n",
            "    accuracy                           0.90      7056\n",
            "   macro avg       0.87      0.84      0.85      7056\n",
            "weighted avg       0.90      0.90      0.90      7056\n",
            "\n"
          ]
        }
      ]
    }
  ]
}