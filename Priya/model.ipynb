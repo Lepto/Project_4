{
 "cells": [
  {
   "cell_type": "code",
   "execution_count": 243,
   "id": "70b867ea",
   "metadata": {},
   "outputs": [],
   "source": [
    "import string\n",
    "import pandas as pd\n",
    "import matplotlib.pyplot as plt\n",
    "import seaborn as sns\n",
    "from nltk.corpus import stopwords\n",
    "from sklearn.feature_extraction.text import CountVectorizer\n",
    "from sklearn.model_selection import train_test_split\n",
    "from sklearn.metrics import confusion_matrix\n",
    "from sklearn.metrics import classification_report\n",
    "from sklearn.metrics import accuracy_score\n",
    "from sklearn.neural_network import MLPClassifier\n",
    "import nltk\n",
    "import numpy as np\n",
    "from sklearn.ensemble import RandomForestClassifier"
   ]
  },
  {
   "cell_type": "code",
   "execution_count": 244,
   "id": "e1c5bc54",
   "metadata": {},
   "outputs": [],
   "source": [
    "DATA=pd.read_csv(\"Downloads/review.csv\")\n",
    "data=DATA[0:3000]"
   ]
  },
  {
   "cell_type": "code",
   "execution_count": 266,
   "id": "0de34852",
   "metadata": {},
   "outputs": [
    {
     "data": {
      "text/html": [
       "<div>\n",
       "<style scoped>\n",
       "    .dataframe tbody tr th:only-of-type {\n",
       "        vertical-align: middle;\n",
       "    }\n",
       "\n",
       "    .dataframe tbody tr th {\n",
       "        vertical-align: top;\n",
       "    }\n",
       "\n",
       "    .dataframe thead th {\n",
       "        text-align: right;\n",
       "    }\n",
       "</style>\n",
       "<table border=\"1\" class=\"dataframe\">\n",
       "  <thead>\n",
       "    <tr style=\"text-align: right;\">\n",
       "      <th></th>\n",
       "      <th>review_id</th>\n",
       "      <th>user_id</th>\n",
       "      <th>business_id</th>\n",
       "      <th>stars</th>\n",
       "      <th>useful</th>\n",
       "      <th>funny</th>\n",
       "      <th>cool</th>\n",
       "      <th>text</th>\n",
       "      <th>date</th>\n",
       "    </tr>\n",
       "  </thead>\n",
       "  <tbody>\n",
       "    <tr>\n",
       "      <th>0</th>\n",
       "      <td>y9LjbrTVwjjGeF8B3OgBTA</td>\n",
       "      <td>7G5zDV-olQZTTWzWuSqotg</td>\n",
       "      <td>JuTlOfaUDnqnNEG8QYnYrw</td>\n",
       "      <td>2.0</td>\n",
       "      <td>0</td>\n",
       "      <td>0</td>\n",
       "      <td>0</td>\n",
       "      <td>This restaurant was your typical \"hipster\" est...</td>\n",
       "      <td>2019-08-15 11:16:24</td>\n",
       "    </tr>\n",
       "    <tr>\n",
       "      <th>1</th>\n",
       "      <td>9c8fm0S8-sVf5bqJMWBYtg</td>\n",
       "      <td>d2-Ihy_voYANxuCMUenMgQ</td>\n",
       "      <td>d3OyBZ7BorkexfTdgcrTuA</td>\n",
       "      <td>5.0</td>\n",
       "      <td>0</td>\n",
       "      <td>0</td>\n",
       "      <td>0</td>\n",
       "      <td>Had them through Uber Eats and it was amazing!...</td>\n",
       "      <td>2020-12-07 23:52:30</td>\n",
       "    </tr>\n",
       "    <tr>\n",
       "      <th>2</th>\n",
       "      <td>GNhk56HTgPVkDRVJFRzfxQ</td>\n",
       "      <td>0PrV9wgHBnDwb71F-ZhMag</td>\n",
       "      <td>2sUwqyAICjFUnC4Iu_W3qQ</td>\n",
       "      <td>5.0</td>\n",
       "      <td>0</td>\n",
       "      <td>0</td>\n",
       "      <td>1</td>\n",
       "      <td>Just moved in around the corner and this place...</td>\n",
       "      <td>2019-01-08 20:38:33</td>\n",
       "    </tr>\n",
       "    <tr>\n",
       "      <th>3</th>\n",
       "      <td>T2WeI1ih7lMEe9jLT7e0Og</td>\n",
       "      <td>UFHsd6UReXizCd6Klb17Jg</td>\n",
       "      <td>6c7-aX7VUO1-royM4wfzOQ</td>\n",
       "      <td>5.0</td>\n",
       "      <td>0</td>\n",
       "      <td>0</td>\n",
       "      <td>0</td>\n",
       "      <td>Simon, was awesome. Food was great and we real...</td>\n",
       "      <td>2019-03-24 18:48:46</td>\n",
       "    </tr>\n",
       "    <tr>\n",
       "      <th>4</th>\n",
       "      <td>tP-La1yqjvT_yrKhcMHksQ</td>\n",
       "      <td>XqpD3goWk-hoaUlOhcCsfA</td>\n",
       "      <td>6c7-aX7VUO1-royM4wfzOQ</td>\n",
       "      <td>1.0</td>\n",
       "      <td>0</td>\n",
       "      <td>0</td>\n",
       "      <td>0</td>\n",
       "      <td>Today was my first purchase with this overpric...</td>\n",
       "      <td>2020-02-26 04:10:16</td>\n",
       "    </tr>\n",
       "  </tbody>\n",
       "</table>\n",
       "</div>"
      ],
      "text/plain": [
       "                review_id                 user_id             business_id  \\\n",
       "0  y9LjbrTVwjjGeF8B3OgBTA  7G5zDV-olQZTTWzWuSqotg  JuTlOfaUDnqnNEG8QYnYrw   \n",
       "1  9c8fm0S8-sVf5bqJMWBYtg  d2-Ihy_voYANxuCMUenMgQ  d3OyBZ7BorkexfTdgcrTuA   \n",
       "2  GNhk56HTgPVkDRVJFRzfxQ  0PrV9wgHBnDwb71F-ZhMag  2sUwqyAICjFUnC4Iu_W3qQ   \n",
       "3  T2WeI1ih7lMEe9jLT7e0Og  UFHsd6UReXizCd6Klb17Jg  6c7-aX7VUO1-royM4wfzOQ   \n",
       "4  tP-La1yqjvT_yrKhcMHksQ  XqpD3goWk-hoaUlOhcCsfA  6c7-aX7VUO1-royM4wfzOQ   \n",
       "\n",
       "   stars  useful  funny  cool  \\\n",
       "0    2.0       0      0     0   \n",
       "1    5.0       0      0     0   \n",
       "2    5.0       0      0     1   \n",
       "3    5.0       0      0     0   \n",
       "4    1.0       0      0     0   \n",
       "\n",
       "                                                text                 date  \n",
       "0  This restaurant was your typical \"hipster\" est...  2019-08-15 11:16:24  \n",
       "1  Had them through Uber Eats and it was amazing!...  2020-12-07 23:52:30  \n",
       "2  Just moved in around the corner and this place...  2019-01-08 20:38:33  \n",
       "3  Simon, was awesome. Food was great and we real...  2019-03-24 18:48:46  \n",
       "4  Today was my first purchase with this overpric...  2020-02-26 04:10:16  "
      ]
     },
     "execution_count": 266,
     "metadata": {},
     "output_type": "execute_result"
    }
   ],
   "source": [
    "data.head()"
   ]
  },
  {
   "cell_type": "code",
   "execution_count": 245,
   "id": "dcf046e8",
   "metadata": {},
   "outputs": [
    {
     "data": {
      "text/plain": [
       "Index(['review_id', 'user_id', 'business_id', 'stars', 'useful', 'funny',\n",
       "       'cool', 'text', 'date'],\n",
       "      dtype='object')"
      ]
     },
     "execution_count": 245,
     "metadata": {},
     "output_type": "execute_result"
    }
   ],
   "source": [
    "data.columns"
   ]
  },
  {
   "cell_type": "code",
   "execution_count": 246,
   "id": "eac42ac1",
   "metadata": {},
   "outputs": [
    {
     "name": "stdout",
     "output_type": "stream",
     "text": [
      "(3000, 9)\n"
     ]
    }
   ],
   "source": [
    "print(data.shape)"
   ]
  },
  {
   "cell_type": "code",
   "execution_count": 248,
   "id": "5788e3af",
   "metadata": {},
   "outputs": [],
   "source": [
    "def preprocess(text):\n",
    "    remove_pctn =[char for char in text if char not in string.punctuation]\n",
    "    remove_pctn=''.join(remove_pctn)\n",
    "    lwr=[word.lower() for word in remove_pctn.split()]\n",
    "    final_word=[word for word in lwr if word not in stopwords.words('english')]\n",
    "    return final_word"
   ]
  },
  {
   "cell_type": "code",
   "execution_count": 249,
   "id": "86f50caf",
   "metadata": {},
   "outputs": [],
   "source": [
    "filtered_data=data[(data['stars']== 1)| (data['stars']== 5)]\n",
    "x=filtered_data['text']\n",
    "y=filtered_data['stars']\n",
    "vectorizer=CountVectorizer(analyzer=preprocess).fit(x)\n",
    "x=vectorizer.transform(x)\n",
    "X_train,X_test,y_train,y_test =train_test_split(x,y,random_state=42)"
   ]
  },
  {
   "cell_type": "code",
   "execution_count": 250,
   "id": "8eb75b2f",
   "metadata": {},
   "outputs": [],
   "source": [
    "model=MLPClassifier()\n",
    "model.fit(X_train,y_train)\n",
    "y_predict=model.predict(X_test)"
   ]
  },
  {
   "cell_type": "code",
   "execution_count": 251,
   "id": "5d502f88",
   "metadata": {},
   "outputs": [],
   "source": [
    "def conf_matrix(y,y_predict, reviews, title='Confusion_Matrix_MLP'):\n",
    "    c_matrix=confusion_matrix(y,y_predict)\n",
    "    ticks=np.arange(len(reviews))\n",
    "    score=accuracy_score(y,y_predict)\n",
    "    score =round(score *100,2)\n",
    "    print(\"Accuracy_score:\",score)\n",
    "    print('classification_report',classification_report(y_test,y_predict))\n",
    "    print(confusion_matrix(y_test,y_predict))\n",
    "    sns.heatmap(c_matrix,cmap='PuBu',annot=True,fmt='g',annot_kws={'size':20})\n",
    "    plt.xticks(ticks,reviews)\n",
    "    plt.yticks(ticks,reviews)\n",
    "    plt.xlabel('predicted',fontsize=20)\n",
    "    plt.ylabel('actual',fontsize=20)\n",
    "    plt.title(title,fontsize=20)\n",
    "    plt.show()"
   ]
  },
  {
   "cell_type": "code",
   "execution_count": 252,
   "id": "b51750a6",
   "metadata": {},
   "outputs": [
    {
     "name": "stdout",
     "output_type": "stream",
     "text": [
      "Accuracy_score: 92.91\n",
      "classification_report               precision    recall  f1-score   support\n",
      "\n",
      "         1.0       0.92      0.79      0.85       106\n",
      "         5.0       0.93      0.98      0.95       303\n",
      "\n",
      "    accuracy                           0.93       409\n",
      "   macro avg       0.93      0.88      0.90       409\n",
      "weighted avg       0.93      0.93      0.93       409\n",
      "\n",
      "[[ 84  22]\n",
      " [  7 296]]\n"
     ]
    },
    {
     "data": {
      "image/png": "[encoded data removed]",
      "text/plain": [
       "<Figure size 432x288 with 2 Axes>"
      ]
     },
     "metadata": {
      "needs_background": "light"
     },
     "output_type": "display_data"
    }
   ],
   "source": [
    "conf_matrix(y_test,y_predict,reviews=['negative(1)','positive(5)'])"
   ]
  },
  {
   "cell_type": "code",
   "execution_count": 273,
   "id": "806460d5",
   "metadata": {},
   "outputs": [],
   "source": [
    "model2=DecisionTreeClassifier()\n",
    "model2.fit(X_train,y_train)\n",
    "y_predict=model2.predict(X_test)"
   ]
  },
  {
   "cell_type": "code",
   "execution_count": 274,
   "id": "e214ee0e",
   "metadata": {},
   "outputs": [],
   "source": [
    "def conf_matrix2(y,y_predict, reviews, title='Confusion_Matrix_DT'):\n",
    "    c_matrix2=confusion_matrix(y,y_predict)\n",
    "#     clsfn_report =classification_report\n",
    "    ticks=np.arange(len(reviews))\n",
    "    score=accuracy_score(y,y_predict)\n",
    "    score =round(score *100,2)\n",
    "    print(\"Accuracy_score:\",score)\n",
    "    print('classification_report',classification_report(y_test,y_predict))\n",
    "    print(confusion_matrix(y_test,y_predict))\n",
    "    sns.heatmap(c_matrix2,cmap='PuBu',annot=True,fmt='g',annot_kws={'size':20})\n",
    "    plt.xticks(ticks,reviews)\n",
    "    plt.yticks(ticks,reviews)\n",
    "    plt.xlabel('predicted',fontsize=20)\n",
    "    plt.ylabel('actual',fontsize=20)\n",
    "    plt.title(title,fontsize=20)\n",
    "    plt.show()"
   ]
  },
  {
   "cell_type": "code",
   "execution_count": 275,
   "id": "9de07c32",
   "metadata": {},
   "outputs": [
    {
     "name": "stdout",
     "output_type": "stream",
     "text": [
      "Accuracy_score: 83.37\n",
      "classification_report               precision    recall  f1-score   support\n",
      "\n",
      "         1.0       0.72      0.58      0.65       106\n",
      "         5.0       0.86      0.92      0.89       303\n",
      "\n",
      "    accuracy                           0.83       409\n",
      "   macro avg       0.79      0.75      0.77       409\n",
      "weighted avg       0.83      0.83      0.83       409\n",
      "\n",
      "[[ 62  44]\n",
      " [ 24 279]]\n"
     ]
    },
    {
     "data": {
      "image/png": "[encoded data removed]",
      "text/plain": [
       "<Figure size 432x288 with 2 Axes>"
      ]
     },
     "metadata": {
      "needs_background": "light"
     },
     "output_type": "display_data"
    }
   ],
   "source": [
    "conf_matrix2(y_test,y_predict,reviews=['negative(1)','positive(5)'])"
   ]
  },
  {
   "cell_type": "code",
   "execution_count": 276,
   "id": "e95b003a",
   "metadata": {},
   "outputs": [],
   "source": [
    "model3=RandomForestClassifier()\n",
    "model3.fit(X_train,y_train)\n",
    "y_predict=model3.predict(X_test)"
   ]
  },
  {
   "cell_type": "code",
   "execution_count": 277,
   "id": "7cf3b4a8",
   "metadata": {},
   "outputs": [],
   "source": [
    "def conf_matrix3(y,y_predict, reviews, title='Confusion_Matrix_RFC'):\n",
    "    c_matrix3=confusion_matrix(y,y_predict)\n",
    "#     clsfn_report =classification_report\n",
    "    ticks=np.arange(len(reviews))\n",
    "    score=accuracy_score(y,y_predict)\n",
    "    score =round(score *100,2)\n",
    "    print(\"Accuracy_score:\",score)\n",
    "    print('classification_report',classification_report(y_test,y_predict))\n",
    "    print(confusion_matrix(y_test,y_predict))\n",
    "    sns.heatmap(c_matrix3,cmap='PuBu',annot=True,fmt='g',annot_kws={'size':20})\n",
    "    plt.xticks(ticks,reviews)\n",
    "    plt.yticks(ticks,reviews)\n",
    "    plt.xlabel('predicted',fontsize=20)\n",
    "    plt.ylabel('actual',fontsize=20)\n",
    "    plt.title(title,fontsize=20)\n",
    "    plt.show()"
   ]
  },
  {
   "cell_type": "code",
   "execution_count": 272,
   "id": "f90b460d",
   "metadata": {},
   "outputs": [
    {
     "name": "stdout",
     "output_type": "stream",
     "text": [
      "Accuracy_score: 86.8\n",
      "classification_report               precision    recall  f1-score   support\n",
      "\n",
      "         1.0       0.96      0.51      0.67       106\n",
      "         5.0       0.85      0.99      0.92       303\n",
      "\n",
      "    accuracy                           0.87       409\n",
      "   macro avg       0.91      0.75      0.79       409\n",
      "weighted avg       0.88      0.87      0.85       409\n",
      "\n",
      "[[ 54  52]\n",
      " [  2 301]]\n"
     ]
    },
    {
     "data": {
      "image/png": "[encoded data removed]",
      "text/plain": [
       "<Figure size 432x288 with 2 Axes>"
      ]
     },
     "metadata": {
      "needs_background": "light"
     },
     "output_type": "display_data"
    }
   ],
   "source": [
    "conf_matrix3(y_test,y_predict,reviews=['negative(1)','positive(5)'])"
   ]
  },
  {
   "cell_type": "code",
   "execution_count": 259,
   "id": "bd2ebce5",
   "metadata": {},
   "outputs": [],
   "source": [
    "# Since multilayer perceptron classifier has the best score, \n",
    "# let us use it to predict a random positive review and a random negative review!"
   ]
  },
  {
   "cell_type": "code",
   "execution_count": 278,
   "id": "8d73e3e9",
   "metadata": {},
   "outputs": [
    {
     "name": "stdout",
     "output_type": "stream",
     "text": [
      "Had them through Uber Eats and it was amazing! We got the pork belly & meatball banh mi, it was so flavorful. We also got the macarons and millefeuille, perfect and light desserts to finish the meal. Don't understand the bad reviews, it's a great meal at a cheap price.\n",
      "Actual Rating:  5.0\n",
      "Predicted Rating:\n"
     ]
    },
    {
     "data": {
      "text/plain": [
       "5.0"
      ]
     },
     "execution_count": 278,
     "metadata": {},
     "output_type": "execute_result"
    }
   ],
   "source": [
    "# POSITIVE REVIEW\n",
    "positive_review = data['text'][1]\n",
    "print(positive_review)\n",
    "print(\"Actual Rating: \",data['stars'][1])\n",
    "positive_review_p = vectorizer.transform([positive_review])\n",
    "print(\"Predicted Rating:\")\n",
    "model.predict(positive_review_p)[0]"
   ]
  },
  {
   "cell_type": "code",
   "execution_count": 279,
   "id": "b4f6c33f",
   "metadata": {},
   "outputs": [
    {
     "name": "stdout",
     "output_type": "stream",
     "text": [
      "The drive thru is always long, and the staff just hands me their pin pad to insert my card, and then I always have to enter a pin. I'd rather run credit than debit, especially sitting in my car, lower than the window, and being outside of the building. Can you help me out here staff? I know you're following corporate standards for pin protection, but maybe you need to contest corporate policy for customer satisfaction. Other locations are swiping my card for me, why are you not? I hear, \"we can't do that\" or \"its policy\", and the famous, \"well if you had the app\"... that one pisses me off. \n",
      "You know what? An app will replace you with that response, and quite possibly a vending robot. Smile and swipe my card, I'm paying your salary.\n",
      "Actual Rating:  1.0\n",
      "Predicted Rating:\n"
     ]
    },
    {
     "data": {
      "text/plain": [
       "5.0"
      ]
     },
     "execution_count": 279,
     "metadata": {},
     "output_type": "execute_result"
    }
   ],
   "source": [
    "# NEGATIVE REVIEW\n",
    "negative_review = data['text'][200]\n",
    "print(negative_review)\n",
    "print(\"Actual Rating: \",data['stars'][200])\n",
    "negative_review_n = vectorizer.transform([negative_review])\n",
    "print(\"Predicted Rating:\")\n",
    "model.predict(negative_review_n)[0]"
   ]
  },
  {
   "cell_type": "code",
   "execution_count": 262,
   "id": "06bdfb4b",
   "metadata": {},
   "outputs": [
    {
     "name": "stdout",
     "output_type": "stream",
     "text": [
      "5.0    1295\n",
      "4.0     715\n",
      "3.0     383\n",
      "1.0     341\n",
      "2.0     266\n",
      "Name: stars, dtype: int64\n"
     ]
    }
   ],
   "source": [
    "count = data['stars'].value_counts()\n",
    "print(count)"
   ]
  },
  {
   "cell_type": "code",
   "execution_count": 263,
   "id": "1a0331a7",
   "metadata": {},
   "outputs": [
    {
     "data": {
      "image/png": "[encoded data removed]",
      "text/plain": [
       "<Figure size 432x288 with 1 Axes>"
      ]
     },
     "metadata": {
      "needs_background": "light"
     },
     "output_type": "display_data"
    }
   ],
   "source": [
    "count.plot(kind='bar',rot=0,color=['plum','cyan']);"
   ]
  },
  {
   "cell_type": "code",
   "execution_count": null,
   "id": "04962719",
   "metadata": {},
   "outputs": [],
   "source": []
  }
 ],
 "metadata": {
  "kernelspec": {
   "display_name": "Python 3",
   "language": "python",
   "name": "python3"
  },
  "language_info": {
   "codemirror_mode": {
    "name": "ipython",
    "version": 3
   },
   "file_extension": ".py",
   "mimetype": "text/x-python",
   "name": "python",
   "nbconvert_exporter": "python",
   "pygments_lexer": "ipython3",
   "version": "3.8.8"
  }
 },
 "nbformat": 4,
 "nbformat_minor": 5
}
